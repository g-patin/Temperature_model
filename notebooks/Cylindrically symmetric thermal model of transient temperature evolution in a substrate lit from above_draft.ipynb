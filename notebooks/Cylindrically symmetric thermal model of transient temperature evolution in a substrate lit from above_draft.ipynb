{
 "cells": [
  {
   "cell_type": "markdown",
   "id": "831143a3",
   "metadata": {},
   "source": [
    "This notebook presents a thorough description of the thermal model that has been developed in the framework of Gauthier Patin's PhD at the University of Amsterdam."
   ]
  },
  {
   "cell_type": "markdown",
   "id": "54ff7d3b-c2a4-41c7-aeb1-a1833fbce00b",
   "metadata": {},
   "source": [
    "# Import"
   ]
  },
  {
   "cell_type": "code",
   "execution_count": 1,
   "id": "23385d55",
   "metadata": {},
   "outputs": [
    {
     "name": "stdout",
     "output_type": "stream",
     "text": [
      "%pylab is deprecated, use %matplotlib inline and import the required libraries.\n",
      "Populating the interactive namespace from numpy and matplotlib\n"
     ]
    }
   ],
   "source": [
    "%pylab inline\n",
    "%load_ext blackcellmagic\n",
    "%load_ext autoreload\n",
    "%autoreload 2\n",
    "\n",
    "from tqdm.auto import tqdm\n",
    "from scipy import ndimage\n",
    "import matplotlib.pyplot as plt\n",
    "\n",
    "from ipywidgets import Layout, Button, Box, interact, interactive, fixed, interact_manual\n",
    "import ipywidgets as wg\n",
    "from IPython.display import display, clear_output\n",
    "\n",
    "import Thermal_simulation_class\n",
    "import Thermal_model\n",
    "import Thermal_model_GIU"
   ]
  },
  {
   "cell_type": "markdown",
   "id": "f2667607",
   "metadata": {
    "tags": []
   },
   "source": [
    "# Table of symbols "
   ]
  },
  {
   "cell_type": "markdown",
   "id": "3ffd5306",
   "metadata": {},
   "source": [
    "| Symbol        | Unit        | Description  |\n",
    "|:----------    |:------------|:-------------|\n",
    "| $\\alpha$      | m$^2$/s     | thermal diffusivity |\n",
    "| $A_E$         | m$^2$       | area of east wall |\n",
    "| $A_W$         | m$^2$       | area of west wall |\n",
    "| $A_N$         | m$^2$       | area of north wall |\n",
    "| $A_S$         | m$^2$       | area of south wall |\n",
    "| $C_p$         | J/(kg K)    | specific heat capacity of paint |\n",
    "| $dt$          | s           | timestep     |\n",
    "| $dr$          | m           | width of cells   |\n",
    "| $dz$          | m           | height of cells  |\n",
    "| $h$           | W/(m$^2$K)  | Heat transfer coefficient from the top-facing surface   |\n",
    "| $k$           | W/(m K)     | Thermal conductivity of a material   |\n",
    "| $L$           | m           | height of the cylindrical system    |\n",
    "| $M$           | kg          | mass of the paint material    |\n",
    "| $N$           |             | number of degrees of freedom    |\n",
    "| $n$_cols      |             | number of columns in the finite volume mesh |\n",
    "| $n$_rows      |             | number of rows in the finite volume mesh |\n",
    "| $R$           | m           | radius of the cylindrical system    |\n",
    "| $\\rho$        | kg/m$^3$    | mass density of paint    |\n",
    "| $T_\\infty$    | K           | far field temperature    |\n",
    "| $T_{\\rm air}$ | K           | temperature of the surrounding air  |\n",
    "| $T_C$         | K           | temperature of the cell  |\n",
    "| $T_S$         | K           | temperature at the surface of the paint  |\n",
    "| $\\vec{q}$     | W/m$^2$     | heat flux   |\n",
    "| $Q$           | J           | heat        |\n",
    "| $V$           | m$^3$       | volume of cells     |\n",
    "| $\\nabla T$    | K           | vector of temperature gradient  |\n",
    "| $\\Delta T$    | K           | temperature difference  |"
   ]
  },
  {
   "cell_type": "markdown",
   "id": "a64b076c",
   "metadata": {
    "tags": []
   },
   "source": [
    "# Description"
   ]
  },
  {
   "cell_type": "markdown",
   "id": "e6ccb935",
   "metadata": {
    "tags": []
   },
   "source": [
    "## Figures "
   ]
  },
  {
   "cell_type": "markdown",
   "id": "08943fba",
   "metadata": {},
   "source": [
    "<img src=\"../Figures/Finite_mesh.png\" width=\"900px\">\n",
    "\n",
    "$$\\Large{\\text{Figure 1. Graphical representation of the finite mesh}}$$"
   ]
  },
  {
   "cell_type": "markdown",
   "id": "d67409f6",
   "metadata": {},
   "source": [
    "***\n",
    "<img src=\"../Figures/Cell_mesh.png\" width=\"500px\">\n",
    "\n",
    "$$\\Large{\\text{Figure 2. Center cell and its neighbour}}$$"
   ]
  },
  {
   "cell_type": "markdown",
   "id": "1d4421ab",
   "metadata": {
    "tags": []
   },
   "source": [
    "## Areas and volume "
   ]
  },
  {
   "cell_type": "markdown",
   "id": "6bbba468",
   "metadata": {},
   "source": [
    "$$\\Large \\text{Perimeter of a cicle} = \\Large 2 \\pi \\space r $$\n",
    "\n",
    "$$\\Large \\text{Area of a cicle} = \\Large \\pi \\space r^2 $$\n",
    "\n",
    "$$\\Large \\text{Volume of a cylinder} = \\Large \\pi \\space r^2 \\space h $$\n",
    "\n",
    "$$ \\text{where $r$ is the radius and $h$ the height.} $$"
   ]
  },
  {
   "cell_type": "markdown",
   "id": "7f6e3779",
   "metadata": {},
   "source": [
    "- - -\n",
    "\n",
    "\\begin{align}\n",
    "\\Large A_E &= \\Large (2 \\pi \\space r_{j+1}) \\space \\Delta z \\\\\n",
    "\\Large A_W &= \\Large (2 \\pi \\space r_{j}) \\space \\Delta z\\\\\n",
    "\\Large A_N &= \\Large \\pi \\space (r_{j+1})^2 -\\pi(r_j)^2\\\\\n",
    "&= \\Large 2\\pi \\space(r_{j+1}-r_j) \\space \\left[\\frac{(r_{j+1} + r_j)}{2}\\right]\\\\\n",
    "&= \\Large 2\\pi\\, \\Delta r\\, \\left[\\frac{(r_{j+1} + r_j)}{2}\\right]\\\\\n",
    "\\Large A_S &= \\Large 2\\pi \\space \\Delta r \\space \\left[\\frac{(r_{j+1} + r_j)}{2}\\right]\\\\\n",
    "\\Large V &= \\Large A_N \\Delta z \\\\\n",
    "&= \\Large 2\\pi\\,\\Delta z\\,\\Delta r\\, \\left[\\frac{(r_{j+1} + r_j)}{2}\\right]\\\\\n",
    "&= \\Large 2\\pi\\,\\Delta z\\,\\Delta r\\, r_{j+\\frac{1}{2}}\\\\\n",
    "\\end{align}"
   ]
  },
  {
   "cell_type": "markdown",
   "id": "de4334be",
   "metadata": {
    "tags": []
   },
   "source": [
    "# Initial conditions "
   ]
  },
  {
   "cell_type": "markdown",
   "id": "aa2c7459",
   "metadata": {},
   "source": [
    "$T_\\infty = T_{\\rm air}$\n",
    "\n",
    "$T(r,z,0) = T_\\infty$\n",
    "\n"
   ]
  },
  {
   "cell_type": "markdown",
   "id": "10c744c3",
   "metadata": {
    "tags": []
   },
   "source": [
    "# Boundary conditions"
   ]
  },
  {
   "cell_type": "markdown",
   "id": "bd005ec6",
   "metadata": {},
   "source": [
    "**TOP**\n",
    "\n",
    "$I = I_{in}(r) - fI_{in}(r)$\n",
    "\n",
    "$I(r) = (1-f)I_{in}(r) = q^{light}$\n",
    "\n",
    "$q_z = q^{conv} + q^{light} $\n",
    "\n",
    "$q_z = h(\\left. T\\right|_{z=0} - T_\\infty) + (1-f)I_{in}(r) $\n",
    "\n",
    "**BOTTOM**\n",
    "\n",
    "Dirichlet BC, $T = T_\\infty$\n",
    "\n",
    "**OUTER SIDE**\n",
    "\n",
    "Dirichlet BC, $T = T_\\infty$\n",
    "\n",
    "**INNER SIDE**\n",
    "\n",
    "$\\left. q_r \\right|_{r=0} = 0$"
   ]
  },
  {
   "cell_type": "markdown",
   "id": "9286320d",
   "metadata": {
    "tags": []
   },
   "source": [
    "# Mathematical equations "
   ]
  },
  {
   "cell_type": "markdown",
   "id": "e6d0ef5e",
   "metadata": {},
   "source": [
    "$$\\large q = -k\\nabla T$$ \n",
    "\n",
    "$$\\large \\nabla \\equiv \\frac{\\partial}{\\partial r}\\hat{r} + \\frac{\\partial}{\\partial \\theta}\\hat{\\theta} + \\frac{\\partial}{\\partial z}\\hat{z}$$\n",
    "\n",
    "$$\\large \\frac{\\partial}{\\partial \\theta}\\hat{\\theta} = 0 $$\n",
    "\n",
    "$$ \\large q = \\large -k\\left[\\frac{\\partial T}{\\partial r}\\hat{r} + \\frac{\\partial T}{\\partial z}\\hat{z}\\right]$$\n",
    "\n",
    "$$\\large q = h(T_S - T_\\infty)$$\n",
    "\n",
    "$$\\large \\Delta T = \\frac{Q}{C_pM}$$\n",
    "\n",
    "$$\\large M = V\\rho$$\n",
    "\n",
    "$$\\large \\alpha = \\frac{k}{\\rho C_p}$$"
   ]
  },
  {
   "cell_type": "markdown",
   "id": "cf1ce3d8",
   "metadata": {},
   "source": [
    "The first equation in the cell just above corresponds to the Fourier's law of heat transfer. The law means that heat flows at temperature gradient, i.e. from hot to cold."
   ]
  },
  {
   "cell_type": "markdown",
   "id": "38642f0e",
   "metadata": {
    "tags": []
   },
   "source": [
    "# Mathematical model"
   ]
  },
  {
   "cell_type": "markdown",
   "id": "47cb47cc",
   "metadata": {},
   "source": [
    "<center> Energy accumulated during timestep = Net total energy inflow during timestep"
   ]
  },
  {
   "cell_type": "markdown",
   "id": "23da6c6c",
   "metadata": {},
   "source": [
    "\\begin{align}\n",
    "\\large Q &= \\large q_{E}A_{E} + q_{W}A_{W} + q_{N}A_{N} + q_{S}A_{S} \\\\    \n",
    "\\large C_p M \\Delta T &= \\large q_{E}A_{E} + q_{W}A_{W} + q_{N}A_{N} + q_{S}A_{S} \\\\\n",
    "\\large \\rho C_p V_{c}(T^{k+1}_{c} - T^{k}_{c}) &= \\large q_{E}A_{E} + q_{W}A_{W} + q_{N}A_{N} + q_{S}A_{S} \\\\\n",
    "&= \\large k\\left[\\frac{(T^k_E - T^k_C)}{\\Delta r}\\right](\\Delta z\\,2\\pi\\,r_{j+1})\\,\\Delta t + k\\left[\\frac{T^k_W - T^k_C}{\\Delta r}\\right](\\Delta z\\,2\\pi\\,r_j)\\,\\Delta t + k\\left[\\frac{T^k_N - T^k_C}{\\Delta z}\\right] (\\Delta r\\,2\\pi\\,r_{j+\\frac{1}{2}})\\, \\Delta t + k\\left[\\frac{T^k_S - T^k_C}{\\Delta z}\\right] (\\Delta r\\,2\\pi\\,r_{j+\\frac{1}{2}})\\, \\Delta t \\\\\n",
    "&= \\large 2\\pi\\,\\Delta t\\,k \\left[\\left[\\frac{(T^k_E - T^k_C)}{\\Delta r}\\right](\\Delta z\\,r_{j+1}) + \\left[\\frac{T^k_W - T^k_C}{\\Delta r}\\right](\\Delta z\\,r_j) + \\left[\\frac{T^k_N - T^k_C}{\\Delta z}\\right] (\\Delta r\\,r_{j+\\frac{1}{2}}) + \\left[\\frac{T^k_S - T^k_C}{\\Delta z}\\right](\\Delta r\\,r_{j+\\frac{1}{2}}) \\right] \\\\\n",
    "\\large \\rho C_p (2\\pi\\,\\Delta z\\,\\Delta r\\, r_{j+\\frac{1}{2}})(T^{k+1}_{c} - T^{k}_{c}) &= \\large 2\\pi\\,\\Delta t\\,k \\left[\\left[\\frac{(T^k_E - T^k_C)}{\\Delta r}\\right](\\Delta z\\,r_{j+1}) + \\left[\\frac{T^k_W - T^k_C}{\\Delta r}\\right](\\Delta z\\,r_j) + \\left[\\frac{T^k_N - T^k_C}{\\Delta z}\\right] (\\Delta r\\,r_{j+\\frac{1}{2}}) + \\left[\\frac{T^k_S - T^k_C}{\\Delta z}\\right](\\Delta r\\,r_{j+\\frac{1}{2}}) \\right] \\\\\n",
    "\\large (\\Delta z\\,\\Delta r\\, r_{j+\\frac{1}{2}})(T^{k+1}_{c} - T^{k}_{c}) &= \\large \\frac{\\Delta t\\,k}{\\rho C_p} \\left[\\left[\\frac{(T^k_E - T^k_C)}{\\Delta r}\\right](\\Delta z\\,r_{j+1}) + \\left[\\frac{T^k_W - T^k_C}{\\Delta r}\\right](\\Delta z\\,r_j) + \\left[\\frac{T^k_N - T^k_C}{\\Delta z}\\right] (\\Delta r\\,r_{j+\\frac{1}{2}}) + \\left[\\frac{T^k_S - T^k_C}{\\Delta z}\\right](\\Delta r\\,r_{j+\\frac{1}{2}}) \\right] \\\\\n",
    "\\large (T^{k+1}_{c} - T^{k}_{c}) &= \\large \\frac{\\Delta t\\,k}{\\rho C_p} \\left[\\left[\\frac{(T^k_E - T^k_C)}{\\Delta r^2}\\right]\\Biggl(\\frac{r_{j+1}}{r_{j+\\frac{1}{2}}}\\Biggl) + \\left[\\frac{T^k_W - T^k_C}{\\Delta r^2}\\right]\\Biggl(\\frac{r_j}{r_{j+\\frac{1}{2}}}\\Biggl) + \\left[\\frac{T^k_N - T^k_C}{\\Delta z^2}\\right] + \\left[\\frac{T^k_S - T^k_C}{\\Delta z^2}\\right]\\right] \\\\\n",
    "\\large T^{k+1}_{c} &= \\large T^{k}_{c} + \\Delta t\\,\\alpha \\left[\\left[\\frac{(T^k_E - T^k_C)}{\\Delta r^2}\\right]\\Biggl(\\frac{r_{j+1}}{r_{j+\\frac{1}{2}}}\\Biggl) + \\left[\\frac{T^k_W - T^k_C}{\\Delta r^2}\\right]\\Biggl(\\frac{r_j}{r_{j+\\frac{1}{2}}}\\Biggl) + \\left[\\frac{T^k_N - T^k_C}{\\Delta z^2}\\right] + \\left[\\frac{T^k_S - T^k_C}{\\Delta z^2}\\right]\\right] \n",
    "\\end{align}\n",
    "\n"
   ]
  },
  {
   "cell_type": "markdown",
   "id": "8807ea3b",
   "metadata": {},
   "source": [
    "We will write the time-stepping algorithm as $$\\mathbf{T}^{k+1} = \\mathbf{T}^{k} + \\mathbf{M} \\mathbf{T}^{k} + \\mathbf{C},$$ where $\\mathbf{T}$ is an $N$-dimensional vector of temperature degrees of freedom, superscript indicates timestep number, and $\\mathbf{M}$ is an $N\\times N$ matrix."
   ]
  },
  {
   "cell_type": "markdown",
   "id": "4117994b",
   "metadata": {
    "tags": []
   },
   "source": [
    "# Python code"
   ]
  },
  {
   "cell_type": "markdown",
   "id": "425f6367",
   "metadata": {},
   "source": [
    "The mathematical model described above has been written inside a python script called *Thermal_model.py*. This python file can be found in the Github repository in the *src* folder."
   ]
  },
  {
   "cell_type": "code",
   "execution_count": 3,
   "id": "38797a53-521f-4c62-835a-7958da68a9a2",
   "metadata": {},
   "outputs": [
    {
     "data": {
      "application/vnd.jupyter.widget-view+json": {
       "model_id": "aea6a684eb014835b59a9696642d97d5",
       "version_major": 2,
       "version_minor": 0
      },
      "text/plain": [
       "  0%|          | 0/100 [00:00<?, ?it/s]"
      ]
     },
     "metadata": {},
     "output_type": "display_data"
    }
   ],
   "source": [
    "# NOTE: all units here are in pure SI (kg, m, s, K as base units)\n",
    "R = 10e-2   # radius of the cylindrical system (m)\n",
    "L = 400e-6  # height of the cylindrical system (m)\n",
    "n_rows = 100  # number of rows in the finite volume mesh\n",
    "n_cols = 100  # number of columns in the finite volume mesh\n",
    "k = 1  # thermal conductivity of substrate (paint) (W/(m K))  (Raghu and Philip, 2006, p.2948)\n",
    "C_p = 3061.0  # specific heat capacity of paint (J/(kg K))   (Raghu and Philip, 2006, p.2948)\n",
    "rho = 1500.0  # ( = 1.5 g/mL) mass density of paint (kg/m^3)\n",
    "h = 11.9  # (W/(m^2 K)), converted from 2.1 Btu/(hr ft^2 degF) heat transfer coefficient from the top-facing surface (Justus, 1956, p.35, Table 28)\n",
    "dt = 1e-5  # timestep (s)\n",
    "T_inf = 22.5 + 273.15  # 20 degC far-field temperature (K)\n",
    "T_init = 22.5 + 273.15\n",
    "RS = 0.1  # mean reflectance over the wavelength range of the input power\n",
    "power_density = 20000\n",
    "bs = 5\n",
    "fwhm = 400\n",
    "\n",
    "a = Thermal_model.T_model(n_rows,n_cols,R,L,k,C_p,rho,h,dt,T_inf,T_init,RS,power_density,bs)"
   ]
  },
  {
   "cell_type": "code",
   "execution_count": null,
   "id": "d00de037-214f-40bb-9d2d-4a978a2acfd4",
   "metadata": {},
   "outputs": [],
   "source": []
  },
  {
   "cell_type": "code",
   "execution_count": 5,
   "id": "61ce66a5-b009-4bc7-b9d9-1ac2a53008f4",
   "metadata": {},
   "outputs": [
    {
     "data": {
      "application/vnd.jupyter.widget-view+json": {
       "model_id": "67adc76151824264b6084a53ae84483c",
       "version_major": 2,
       "version_minor": 0
      },
      "text/plain": [
       "VBox(children=(Accordion(children=(VBox(children=(FloatSlider(value=0.0005, description='Radius (m)', layout=L…"
      ]
     },
     "metadata": {},
     "output_type": "display_data"
    }
   ],
   "source": [
    "model = Thermal_simulation_class.simulate()"
   ]
  },
  {
   "cell_type": "code",
   "execution_count": 9,
   "id": "941a13f5-db75-4363-be8d-2a2374e8c3ad",
   "metadata": {},
   "outputs": [
    {
     "data": {
      "text/html": [
       "<div>\n",
       "<style scoped>\n",
       "    .dataframe tbody tr th:only-of-type {\n",
       "        vertical-align: middle;\n",
       "    }\n",
       "\n",
       "    .dataframe tbody tr th {\n",
       "        vertical-align: top;\n",
       "    }\n",
       "\n",
       "    .dataframe thead th {\n",
       "        text-align: right;\n",
       "    }\n",
       "</style>\n",
       "<table border=\"1\" class=\"dataframe\">\n",
       "  <thead>\n",
       "    <tr style=\"text-align: right;\">\n",
       "      <th></th>\n",
       "      <th>value</th>\n",
       "    </tr>\n",
       "    <tr>\n",
       "      <th>parameter</th>\n",
       "      <th></th>\n",
       "    </tr>\n",
       "  </thead>\n",
       "  <tbody>\n",
       "    <tr>\n",
       "      <th>n_rows</th>\n",
       "      <td>80</td>\n",
       "    </tr>\n",
       "    <tr>\n",
       "      <th>n_cols</th>\n",
       "      <td>120</td>\n",
       "    </tr>\n",
       "    <tr>\n",
       "      <th>R</th>\n",
       "      <td>0.0015</td>\n",
       "    </tr>\n",
       "    <tr>\n",
       "      <th>L</th>\n",
       "      <td>0.0004</td>\n",
       "    </tr>\n",
       "    <tr>\n",
       "      <th>k</th>\n",
       "      <td>0.2</td>\n",
       "    </tr>\n",
       "    <tr>\n",
       "      <th>C_p</th>\n",
       "      <td>3060</td>\n",
       "    </tr>\n",
       "    <tr>\n",
       "      <th>rho</th>\n",
       "      <td>1800.0</td>\n",
       "    </tr>\n",
       "    <tr>\n",
       "      <th>h</th>\n",
       "      <td>12.0</td>\n",
       "    </tr>\n",
       "    <tr>\n",
       "      <th>dt</th>\n",
       "      <td>0.0001</td>\n",
       "    </tr>\n",
       "    <tr>\n",
       "      <th>T_inf</th>\n",
       "      <td>297.0</td>\n",
       "    </tr>\n",
       "    <tr>\n",
       "      <th>T_init</th>\n",
       "      <td>297.0</td>\n",
       "    </tr>\n",
       "    <tr>\n",
       "      <th>RS</th>\n",
       "      <td>0.05</td>\n",
       "    </tr>\n",
       "    <tr>\n",
       "      <th>power_density</th>\n",
       "      <td>13000</td>\n",
       "    </tr>\n",
       "    <tr>\n",
       "      <th>bs</th>\n",
       "      <td>1300.0</td>\n",
       "    </tr>\n",
       "  </tbody>\n",
       "</table>\n",
       "</div>"
      ],
      "text/plain": [
       "                value\n",
       "parameter            \n",
       "n_rows             80\n",
       "n_cols            120\n",
       "R              0.0015\n",
       "L              0.0004\n",
       "k                 0.2\n",
       "C_p              3060\n",
       "rho            1800.0\n",
       "h                12.0\n",
       "dt             0.0001\n",
       "T_inf           297.0\n",
       "T_init          297.0\n",
       "RS               0.05\n",
       "power_density   13000\n",
       "bs             1300.0"
      ]
     },
     "execution_count": 9,
     "metadata": {},
     "output_type": "execute_result"
    }
   ],
   "source": [
    "model.params()"
   ]
  },
  {
   "cell_type": "code",
   "execution_count": 29,
   "id": "26af5a92-d6e5-4057-bf14-41d62fdc708a",
   "metadata": {},
   "outputs": [
    {
     "name": "stdout",
     "output_type": "stream",
     "text": [
      "397\n"
     ]
    },
    {
     "data": {
      "image/png": "[encoded data removed]",
      "text/plain": [
       "<Figure size 432x288 with 1 Axes>"
      ]
     },
     "metadata": {
      "needs_background": "light"
     },
     "output_type": "display_data"
    }
   ],
   "source": [
    "n_cols= 550\n",
    "s = np.zeros(n_cols*2)\n",
    "s[n_cols] = 1\n",
    "fwhm =400\n",
    "s = ndimage.gaussian_filter(s, fwhm/2.355)\n",
    "s /= s.max()\n",
    "s *= power_density*6\n",
    "\n",
    "fwhm_calc = FWFM.FWFM(np.arange(0,len(s)),s)\n",
    "\n",
    "plt.plot(s)\n",
    "print(fwhm_calc)"
   ]
  },
  {
   "cell_type": "code",
   "execution_count": 7,
   "id": "1ef63d9d-3e92-494c-9491-3721398eebe0",
   "metadata": {},
   "outputs": [],
   "source": [
    "import FWFM"
   ]
  },
  {
   "cell_type": "code",
   "execution_count": 12,
   "id": "77f24ff0-9a87-4e21-8e02-ecd916730da6",
   "metadata": {},
   "outputs": [
    {
     "name": "stdout",
     "output_type": "stream",
     "text": [
      "10\n"
     ]
    }
   ],
   "source": [
    "res = 10\n",
    "s = np.zeros(n_cols*2)\n",
    "s[n_cols] = 1\n",
    "fwhm = 300\n",
    "\n",
    "fwhm = FWFM.FWFM(np.arange(0,len(s)),s) * res\n",
    "print(fwhm)"
   ]
  },
  {
   "cell_type": "code",
   "execution_count": 11,
   "id": "1370aebd-1682-4530-ba7c-9fde5b7db3db",
   "metadata": {},
   "outputs": [
    {
     "data": {
      "text/plain": [
       "[<matplotlib.lines.Line2D at 0x7fef22bd35b0>]"
      ]
     },
     "execution_count": 11,
     "metadata": {},
     "output_type": "execute_result"
    },
    {
     "data": {
      "image/png": "[encoded data removed]",
      "text/plain": [
       "<Figure size 432x288 with 1 Axes>"
      ]
     },
     "metadata": {
      "needs_background": "light"
     },
     "output_type": "display_data"
    }
   ],
   "source": [
    "plt.plot(s)"
   ]
  },
  {
   "cell_type": "code",
   "execution_count": null,
   "id": "ed99ef76-777e-489d-8da0-099f784c7736",
   "metadata": {},
   "outputs": [],
   "source": []
  },
  {
   "cell_type": "code",
   "execution_count": null,
   "id": "10df33ba-c42f-429e-8ede-9144c9d96c68",
   "metadata": {},
   "outputs": [],
   "source": [
    "plt.imshow(m)"
   ]
  },
  {
   "cell_type": "code",
   "execution_count": null,
   "id": "f1fcbc70-d393-4217-8e34-550515e0d4cf",
   "metadata": {},
   "outputs": [],
   "source": []
  },
  {
   "cell_type": "code",
   "execution_count": null,
   "id": "2dd4f682-1179-41cd-8256-ba2ac6b71295",
   "metadata": {},
   "outputs": [],
   "source": [
    "plt.plot(m[:,0])"
   ]
  },
  {
   "cell_type": "code",
   "execution_count": null,
   "id": "2b44d7c6-8c0a-4899-9ffc-f68b5b29ea99",
   "metadata": {},
   "outputs": [],
   "source": [
    "plt.plot(m[0,:])"
   ]
  },
  {
   "cell_type": "code",
   "execution_count": null,
   "id": "9da0f252-ee9b-4d23-8048-00d22ad532e0",
   "metadata": {},
   "outputs": [],
   "source": []
  },
  {
   "cell_type": "code",
   "execution_count": null,
   "id": "88b93837-c913-4cb6-b3ac-3230c8037fae",
   "metadata": {},
   "outputs": [],
   "source": [
    "# create an output widget\n",
    "rand_num_output = wg.Output()\n",
    "\n",
    "class Test(object):\n",
    "    def __init__(self):\n",
    "        self.random_button = wg.Button(\n",
    "            description='randomize self.val')\n",
    "        self.random_button.on_click(self.button_pressed)\n",
    "\n",
    "    def update_random(self):\n",
    "        # clear the output on every click of randomize self.val\n",
    "        rand_num_output.clear_output()\n",
    "        \n",
    "        # execute function so it gets captured in output widget view\n",
    "        with rand_num_output:\n",
    "            self.val = np.random.rand()\n",
    "            print(self.val)\n",
    "\n",
    "    def button_pressed(self,*args):\n",
    "        self.update_random()\n",
    "\n",
    "buttonObject = Test()\n",
    "# display(buttonObject.random_button)  # display works but is not required if on the last line in Jupyter cell.\n",
    "wg.HBox([buttonObject.random_button, rand_num_output])  # Widget to be dispalyed - must last last line in cell, add output widget"
   ]
  },
  {
   "cell_type": "code",
   "execution_count": null,
   "id": "0dd39b6c-121d-40a8-a722-0cc3a55980ba",
   "metadata": {},
   "outputs": [],
   "source": []
  },
  {
   "cell_type": "code",
   "execution_count": null,
   "id": "7d708629-b6f2-4e55-8a41-7c54e9ce9473",
   "metadata": {},
   "outputs": [],
   "source": []
  },
  {
   "cell_type": "code",
   "execution_count": null,
   "id": "dd6b65e9-c241-44f0-8e34-143e88f7df07",
   "metadata": {},
   "outputs": [],
   "source": []
  },
  {
   "cell_type": "code",
   "execution_count": null,
   "id": "a18baa7f-fb35-4934-bfea-4482001e66f8",
   "metadata": {},
   "outputs": [],
   "source": []
  },
  {
   "cell_type": "code",
   "execution_count": null,
   "id": "0a05775f-e3bb-4c1b-9457-5f2b4f53ee91",
   "metadata": {},
   "outputs": [],
   "source": [
    "r = linspace(0, R, n_cols + 1)  # radius values at cell boundaries\n",
    "r_half = (r[1:] + r[:-1]) / 2  # radius values at cell centers\n",
    "z = linspace(0, L, n_rows + 1)  # height values at cell boundaries\n",
    "\n",
    "M = a[0]\n",
    "C = a[1]\n",
    "changes = []\n",
    "N = n_rows * n_cols\n",
    "T = T_init * ones(N)  # vector of temperatures\n",
    "\n",
    "for i in tqdm(range(20000)):\n",
    "    deltaT = M @ T + C\n",
    "    T += deltaT\n",
    "    changes.append(deltaT.max())\n",
    "    "
   ]
  },
  {
   "cell_type": "code",
   "execution_count": null,
   "id": "d9c4fd42-5c71-476d-a3a5-2c6a0d372fc7",
   "metadata": {},
   "outputs": [],
   "source": [
    "semilogy(changes)"
   ]
  },
  {
   "cell_type": "code",
   "execution_count": null,
   "id": "1c70bc90-55d7-4324-abcf-4faf728890fc",
   "metadata": {},
   "outputs": [],
   "source": [
    "r_plot = r[None].repeat(n_rows, axis=0)[:, :-1]\n",
    "z_plot = z[:, None].repeat(n_cols, axis=1)[:-1, :]"
   ]
  },
  {
   "cell_type": "code",
   "execution_count": null,
   "id": "e1a747df-fafa-4fea-b6c3-c5f5fb670b11",
   "metadata": {},
   "outputs": [],
   "source": [
    "T_plot = T.reshape(n_rows, n_cols) - 273.15"
   ]
  },
  {
   "cell_type": "code",
   "execution_count": null,
   "id": "c614ebdb-bdf1-442f-8a05-1ccbb2c6b7c4",
   "metadata": {},
   "outputs": [],
   "source": []
  },
  {
   "cell_type": "code",
   "execution_count": null,
   "id": "4b4cefc6-7465-4449-a831-93c444a93e0f",
   "metadata": {},
   "outputs": [],
   "source": [
    "fig, ax = plt.subplots(1,1,figsize = (10,10))\n",
    "#im = ax.imshow(T_plot,extent=(0, 1 * T_plot.shape[1],(L*1e6)/n_rows * T_plot.shape[0], 1))\n",
    "im = ax.imshow(T_plot)\n",
    "colorbar(im,ax = ax)\n",
    "\n",
    "#ax.set_xlim(0,20)\n",
    "#ax.set_ylim()"
   ]
  },
  {
   "cell_type": "code",
   "execution_count": null,
   "id": "82d62577-d97d-4cbf-bde3-f64f1da9d9bd",
   "metadata": {},
   "outputs": [],
   "source": [
    "plt.plot(T_plot[0,:])"
   ]
  },
  {
   "cell_type": "code",
   "execution_count": null,
   "id": "6f7e2ff6-aa0c-4efe-b1ef-86ec7e7bca0f",
   "metadata": {},
   "outputs": [],
   "source": [
    "plt.plot(T_plot[:,0])"
   ]
  },
  {
   "cell_type": "code",
   "execution_count": null,
   "id": "d1d114ca-44fa-4989-89f6-806624537bd4",
   "metadata": {},
   "outputs": [],
   "source": [
    "T_plot[:,0]"
   ]
  },
  {
   "cell_type": "code",
   "execution_count": null,
   "id": "ad5ed40e-2452-4b2d-8126-8b249d8b3d62",
   "metadata": {},
   "outputs": [],
   "source": [
    "np.arange(0,)"
   ]
  },
  {
   "cell_type": "markdown",
   "id": "b18cd502-353d-4b92-81f4-0cfa5f46141e",
   "metadata": {
    "tags": []
   },
   "source": [
    "# Temp class "
   ]
  },
  {
   "cell_type": "code",
   "execution_count": null,
   "id": "4fc1305c-069f-4c54-bd1d-f94d4522196b",
   "metadata": {},
   "outputs": [],
   "source": [
    "R = 40e-2  # radius of the cylindrical system (m)\n",
    "L = 400e-6  # height of the cylindrical system (m)\n",
    "n_rows = 50  # number of rows in the finite volume mesh\n",
    "n_cols = 200  # number of columns in the finite volume mesh\n",
    "k = 0.2  # thermal conductivity of substrate (paint) (W/(m K))\n",
    "C_p = 2500.0  # specific heat capacity of paint (J/(kg K))\n",
    "rho = 1500.0  # ( = 1.5 g/mL) mass density of paint (kg/m^3)\n",
    "h = 11.9  # (W/(m^2 K)), converted from 2.1 Btu/(hr ft^2 degF) heat transfer coefficient from the top-facing surface\n",
    "dt = 1e-5  # timestep (s)\n",
    "T_inf = 22.5 + 273.15  # 20 degC far-field temperature (K)\n",
    "T_init = 22.5 + 273.15\n",
    "RS = 0.1  # mean reflectance over the wavelength range of the input power\n",
    "power_density = 60000\n",
    "\n",
    "T = Temp_class.Temp(n_rows,n_cols,R,L,k,C_p,rho,h,dt,T_inf,T_init,RS,power_density)\n"
   ]
  },
  {
   "cell_type": "code",
   "execution_count": null,
   "id": "ec810451-ec08-428c-b7ab-848339c4d861",
   "metadata": {},
   "outputs": [],
   "source": [
    "T.params()"
   ]
  },
  {
   "cell_type": "code",
   "execution_count": null,
   "id": "e738062a-16a4-40aa-bc55-7b869d63b64b",
   "metadata": {},
   "outputs": [],
   "source": [
    "mesh = T.T_mesh()"
   ]
  },
  {
   "cell_type": "code",
   "execution_count": null,
   "id": "a6d92aa9-0f94-4ecc-9339-1e480d4b6398",
   "metadata": {},
   "outputs": [],
   "source": [
    "fig, ax = plt.subplots(1,1,figsize = (10,10))\n",
    "im = ax.imshow(mesh,origin='upper',extent=(0,(R/n_cols*100) * mesh.shape[1],-(L/n_rows*100000) * mesh.shape[0],0))\n",
    "#im = ax.imshow(mesh)\n",
    "colorbar(im,ax = ax, shrink=0.4)\n",
    "\n",
    "ax.set_xlim(-40,40)\n",
    "plt.tight_layout()\n",
    "plt.show()"
   ]
  },
  {
   "cell_type": "code",
   "execution_count": null,
   "id": "ad8478a1-84ec-48cc-a9ed-348375306068",
   "metadata": {},
   "outputs": [],
   "source": [
    "extent=[horizontal_min,horizontal_max,vertical_min,vertical_max]"
   ]
  },
  {
   "cell_type": "markdown",
   "id": "9df2e94c",
   "metadata": {
    "tags": []
   },
   "source": [
    "# GIU "
   ]
  },
  {
   "cell_type": "code",
   "execution_count": 2,
   "id": "ba22185f",
   "metadata": {},
   "outputs": [
    {
     "data": {
      "application/vnd.jupyter.widget-view+json": {
       "model_id": "0f57ce4ba0de4720b625619d841ec357",
       "version_major": 2,
       "version_minor": 0
      },
      "text/plain": [
       "Accordion(children=(VBox(children=(FloatSlider(value=0.01, description='Radius (m)', layout=Layout(height='30p…"
      ]
     },
     "metadata": {},
     "output_type": "display_data"
    },
    {
     "data": {
      "application/vnd.jupyter.widget-view+json": {
       "model_id": "d8290a091807442484a729cf92f0b925",
       "version_major": 2,
       "version_minor": 0
      },
      "text/plain": [
       "Output()"
      ]
     },
     "metadata": {},
     "output_type": "display_data"
    }
   ],
   "source": [
    "folder = ''\n",
    "Thermal_model_GIU.T_model(folder)"
   ]
  },
  {
   "cell_type": "code",
   "execution_count": null,
   "id": "c6d40ab6",
   "metadata": {},
   "outputs": [],
   "source": []
  },
  {
   "cell_type": "code",
   "execution_count": null,
   "id": "20495742",
   "metadata": {},
   "outputs": [],
   "source": []
  },
  {
   "cell_type": "code",
   "execution_count": null,
   "id": "e32ba08b",
   "metadata": {},
   "outputs": [],
   "source": []
  },
  {
   "cell_type": "code",
   "execution_count": null,
   "id": "26d0df19",
   "metadata": {},
   "outputs": [],
   "source": []
  },
  {
   "cell_type": "code",
   "execution_count": null,
   "id": "8aed6fc9",
   "metadata": {},
   "outputs": [],
   "source": []
  },
  {
   "cell_type": "markdown",
   "id": "b2e6de89",
   "metadata": {},
   "source": [
    "# questions \n",
    "\n",
    "- How come when the radius value is equal or lower than 20, things get mad ?\n",
    "- How come when the radius value increases so does the temp value ?\n",
    "- How come when height decreases, the temp value increases ?\n",
    "- Does the pixels on the image have to be square ?"
   ]
  },
  {
   "cell_type": "code",
   "execution_count": null,
   "id": "6d6a4d9e",
   "metadata": {},
   "outputs": [],
   "source": []
  },
  {
   "cell_type": "code",
   "execution_count": null,
   "id": "f19b0475",
   "metadata": {},
   "outputs": [],
   "source": []
  },
  {
   "cell_type": "code",
   "execution_count": null,
   "id": "7b7593fe",
   "metadata": {},
   "outputs": [],
   "source": []
  },
  {
   "cell_type": "code",
   "execution_count": null,
   "id": "6bc72185",
   "metadata": {},
   "outputs": [],
   "source": []
  },
  {
   "cell_type": "code",
   "execution_count": null,
   "id": "6835dbae",
   "metadata": {},
   "outputs": [],
   "source": []
  },
  {
   "cell_type": "code",
   "execution_count": null,
   "id": "58998993",
   "metadata": {},
   "outputs": [],
   "source": []
  },
  {
   "cell_type": "code",
   "execution_count": null,
   "id": "37e90e29",
   "metadata": {},
   "outputs": [],
   "source": []
  },
  {
   "cell_type": "code",
   "execution_count": null,
   "id": "c9bb8177",
   "metadata": {},
   "outputs": [],
   "source": [
    "# NOTE: all units here are in pure SI (kg, m, s, K as base units)\n",
    "R = 5e-2  # radius of the cylindrical system (m)\n",
    "L = 100e-6  # height of the cylindrical system (m)\n",
    "n_rows = 20  # number of rows in the finite volume mesh\n",
    "n_cols = 200  # number of columns in the finite volume mesh\n",
    "dr = R / n_cols  # width of cells\n",
    "dz = L / n_rows  # height of cells\n",
    "k = 0.2  # thermal conductivity of substrate (paint) (W/(m K))\n",
    "C_p = 2500.0  # specific heat capacity of paint (W/(m^2 K))\n",
    "rho = 1500.0  # ( = 1.5 g/mL) mass density of paint (kg/m^3)\n",
    "alpha = k / (rho * C_p)  # thermal diffusivity m^2/s\n",
    "h = 11.9  # (W/(m^2 K)), converted from 2.1 Btu/(hr ft^2 degF) heat transfer coefficient from the top-facing surface\n",
    "N = n_rows * n_cols  # number of degrees of freedom\n",
    "dt = 0.1  # timestep (s)\n",
    "T_inf = 22.5 + 273.15  # 20 degC far-field temperature (K)\n",
    "T_init = 22.5 + 273.15\n",
    "f = 0.05  # mean reflectance over the wavelength range of the input power\n",
    "f'The number of unknown temperatures is {N}.'\n",
    "\n",
    "Thermal_model.T_model(n_rows, n_cols, R, L, k, C_p, rho, h, dt, T_inf, T_init, f)"
   ]
  },
  {
   "cell_type": "code",
   "execution_count": null,
   "id": "97acf491",
   "metadata": {},
   "outputs": [],
   "source": [
    "def T_model_GIU():\n",
    "    \n",
    "    import Thermal_model\n",
    "    \n",
    "    out1 = wg.Output()\n",
    "    tab = wg.Tab(children=[out1])\n",
    "    tab.set_title(0, \"Results\")\n",
    "\n",
    "    style = {\"description_width\": \"initial\"}\n",
    "\n",
    "    ##### CONSTANTS ######\n",
    "    '''\n",
    "    R = wg.IntSlider(\n",
    "        value=100, \n",
    "        min=1,\n",
    "        max=1000,\n",
    "        description=\"Radius\",\n",
    "        layout=Layout(width=\"30%\", height=\"30px\"),\n",
    "        style=style,\n",
    "    )\n",
    "\n",
    "\n",
    "    L = wg.FloatSlider(\n",
    "        value=5,\n",
    "        min=1,\n",
    "        max=100,\n",
    "        description=\"Height\",\n",
    "        layout=Layout(width=\"30%\", height=\"30px\"),\n",
    "        style=style,\n",
    "    )\n",
    "\n",
    "\n",
    "    n_rows = wg.IntSlider(\n",
    "        value = 20,\n",
    "        min=1,\n",
    "        max=100,\n",
    "        description=\"Rows nb\",\n",
    "        layout=Layout(width=\"30%\", height=\"30px\"),\n",
    "        style=style,\n",
    "    )\n",
    "\n",
    "    n_cols = wg.IntSlider(\n",
    "        value = 200,\n",
    "        min=1,\n",
    "        max=1000,\n",
    "        description=\"Columns nb\",\n",
    "        layout=Layout(width=\"30%\", height=\"30px\"),\n",
    "        style=style,\n",
    "    )\n",
    "\n",
    "\n",
    "    k = wg.FloatSlider(\n",
    "        value=0.2,\n",
    "        min=0.01,\n",
    "        max=10,\n",
    "        step=0.01,\n",
    "        description=\"Therm. cond.\",\n",
    "        layout=Layout(width=\"30%\", height=\"30px\"),\n",
    "        style=style,\n",
    "    )\n",
    "\n",
    "\n",
    "    C_p = wg.IntSlider(\n",
    "        value = 2500,\n",
    "        min=1,\n",
    "        max=5000,\n",
    "        description=\"Sp. heat cap.\",\n",
    "        layout=Layout(width=\"30%\", height=\"30px\"),\n",
    "        style=style,\n",
    "    )\n",
    "\n",
    "    \n",
    "    rho = wg.FloatSlider(\n",
    "        value=1500,\n",
    "        min=0,\n",
    "        max=5000,\n",
    "        step=0.01,\n",
    "        description=\"Density paint\",\n",
    "        layout=Layout(width=\"30%\", height=\"30px\"),\n",
    "        style=style,\n",
    "    )\n",
    "\n",
    "\n",
    "    h = wg.FloatSlider(\n",
    "        value=12,\n",
    "        min=0,\n",
    "        max=50,\n",
    "        step=0.01,\n",
    "        description=\"Heat transfer coeff.\",\n",
    "        layout=Layout(width=\"30%\", height=\"30px\"),\n",
    "        style=style,\n",
    "    )\n",
    "\n",
    "\n",
    "    dt = wg.FloatSlider(\n",
    "        value=0.1,\n",
    "        min=0,\n",
    "        max=1,        \n",
    "        description=\"Time step\",\n",
    "        layout=Layout(width=\"30%\", height=\"30px\"),\n",
    "        style=style,\n",
    "    )\n",
    "\n",
    "\n",
    "    T_init = wg.FloatSlider(\n",
    "        value=300,\n",
    "        min=0,\n",
    "        max=500,\n",
    "        step=0.01,\n",
    "        description=\"Initial Temp.\",\n",
    "        layout=Layout(width=\"30%\", height=\"30px\"),\n",
    "        style=style,\n",
    "    )\n",
    "\n",
    "\n",
    "    T_inf = wg.FloatSlider(\n",
    "        value=300,\n",
    "        min=0,\n",
    "        max=500,\n",
    "        step=0.01,\n",
    "        description=\"Far field Temp.\",\n",
    "        layout=Layout(width=\"30%\", height=\"30px\"),\n",
    "        style=style,\n",
    "    )\n",
    "\n",
    "\n",
    "    f = wg.FloatSlider(\n",
    "        min=0,\n",
    "        max=1,\n",
    "        step=0.01,\n",
    "        description=\"Reflectance\",\n",
    "        layout=Layout(width=\"30%\", height=\"30px\"),\n",
    "        style=style,\n",
    "    )\n",
    "\n",
    "\n",
    "    display(\n",
    "        R,\n",
    "        L,\n",
    "        n_rows,\n",
    "        n_cols,\n",
    "        k,\n",
    "        C_p,\n",
    "        rho,\n",
    "        h,\n",
    "        dt,\n",
    "        T_init,\n",
    "        T_inf,\n",
    "        f,\n",
    "    )\n",
    "    '''    \n",
    "    (M,C) = Thermal_model.T_model(n_rows, n_cols, R, L, k, C_p, rho, h, dt, T_inf, T_init, f)\n",
    "    \n",
    "\n",
    "    changes = []\n",
    "\n",
    "    T = T_init * ones(N)  # vector of temperatures\n",
    "\n",
    "    for i in tqdm(range(10000)):\n",
    "        deltaT = M @ T + C\n",
    "        T += deltaT\n",
    "        changes.append(deltaT.max())\n",
    "\n",
    "    T_plot = T.reshape(n_rows, n_cols) - 273.15\n",
    "    \n",
    "\n",
    "    fig, ax = plt.subplots(1, 1, figsize=(20, 1))\n",
    "    im = ax.imshow(T_plot)\n",
    "    cb = plt.colorbar(im, ax = ax)\n",
    "    cb.ax.tick_params(labelsize=16)\n",
    "\n",
    "    plt.show()\n",
    "    '''\n",
    "    def file_change(change):\n",
    "        with out1:\n",
    "            clear_output()\n",
    "            interact(\n",
    "                model,\n",
    "                n_rows=n_rows,\n",
    "                n_cols=n_cols,\n",
    "                R=R,\n",
    "                L=L,\n",
    "                k=k,\n",
    "                C_p=C_p,\n",
    "                rho=rho,\n",
    "                h=h,\n",
    "                dt=dt,\n",
    "                T_inf=T_inf,\n",
    "                T_init=T_init,\n",
    "                f=f,\n",
    "            )\n",
    "\n",
    "    T_init.observe(file_change, names=\"value\")\n",
    "    display(tab)\n",
    "    '''\n",
    "T_model_GIU()"
   ]
  },
  {
   "cell_type": "code",
   "execution_count": null,
   "id": "57a1fef2",
   "metadata": {},
   "outputs": [],
   "source": []
  },
  {
   "cell_type": "code",
   "execution_count": null,
   "id": "d1f1ddcd",
   "metadata": {},
   "outputs": [],
   "source": []
  },
  {
   "cell_type": "code",
   "execution_count": null,
   "id": "92cb5047",
   "metadata": {},
   "outputs": [],
   "source": [
    "50000 * 1.e-6"
   ]
  },
  {
   "cell_type": "code",
   "execution_count": null,
   "id": "604bf168",
   "metadata": {},
   "outputs": [],
   "source": [
    "def T_model():\n",
    "\n",
    "    out1 = wg.Output()\n",
    "    tab = wg.Tab(children=[out1])\n",
    "    tab.set_title(0, \"Results\")\n",
    "\n",
    "    style = {\"description_width\": \"initial\"}\n",
    "\n",
    "    ##### CONSTANTS ######\n",
    "\n",
    "    R = wg.IntSlider(\n",
    "        value=100, \n",
    "        min=1,\n",
    "        max=1000,\n",
    "        description=\"Radius\",\n",
    "        layout=Layout(width=\"30%\", height=\"30px\"),\n",
    "        style=style,\n",
    "    )\n",
    "\n",
    "\n",
    "    L = wg.FloatSlider(\n",
    "        value=3,\n",
    "        min=0.1,\n",
    "        max=100,\n",
    "        description=\"Height\",\n",
    "        layout=Layout(width=\"30%\", height=\"30px\"),\n",
    "        style=style,\n",
    "    )\n",
    "\n",
    "\n",
    "    n_rows = wg.IntSlider(\n",
    "        value = 20,\n",
    "        min=1,\n",
    "        max=100,\n",
    "        description=\"Rows nb\",\n",
    "        layout=Layout(width=\"30%\", height=\"30px\"),\n",
    "        style=style,\n",
    "    )\n",
    "\n",
    "    n_cols = wg.IntSlider(\n",
    "        value = 200,\n",
    "        min=1,\n",
    "        max=1000,\n",
    "        description=\"Columns nb\",\n",
    "        layout=Layout(width=\"30%\", height=\"30px\"),\n",
    "        style=style,\n",
    "    )\n",
    "\n",
    "\n",
    "    k = wg.FloatSlider(\n",
    "        value=0.2,\n",
    "        min=0.01,\n",
    "        max=10,\n",
    "        step=0.01,\n",
    "        description=\"Therm. cond.\",\n",
    "        layout=Layout(width=\"30%\", height=\"30px\"),\n",
    "        style=style,\n",
    "    )\n",
    "\n",
    "\n",
    "    C_p = wg.IntSlider(\n",
    "        value = 2500,\n",
    "        min=1,\n",
    "        max=5000,\n",
    "        description=\"Sp. heat cap.\",\n",
    "        layout=Layout(width=\"30%\", height=\"30px\"),\n",
    "        style=style,\n",
    "    )\n",
    "\n",
    "    \n",
    "    rho = wg.FloatSlider(\n",
    "        value=1500,\n",
    "        min=0,\n",
    "        max=5000,\n",
    "        step=0.01,\n",
    "        description=\"Density paint\",\n",
    "        layout=Layout(width=\"30%\", height=\"30px\"),\n",
    "        style=style,\n",
    "    )\n",
    "\n",
    "\n",
    "    h = wg.FloatSlider(\n",
    "        value=12,\n",
    "        min=0,\n",
    "        max=50,\n",
    "        step=0.01,\n",
    "        description=\"Heat transfer coeff.\",\n",
    "        layout=Layout(width=\"30%\", height=\"30px\"),\n",
    "        style=style,\n",
    "    )\n",
    "\n",
    "\n",
    "    dt = wg.FloatSlider(\n",
    "        value=0.1,\n",
    "        min=0,\n",
    "        max=1,        \n",
    "        description=\"Time step\",\n",
    "        layout=Layout(width=\"30%\", height=\"30px\"),\n",
    "        style=style,\n",
    "    )\n",
    "\n",
    "\n",
    "    T_init = wg.FloatSlider(\n",
    "        value=300,\n",
    "        min=0,\n",
    "        max=500,\n",
    "        step=0.01,\n",
    "        description=\"Initial Temp.\",\n",
    "        layout=Layout(width=\"30%\", height=\"30px\"),\n",
    "        style=style,\n",
    "    )\n",
    "\n",
    "\n",
    "    T_inf = wg.FloatSlider(\n",
    "        value=300,\n",
    "        min=0,\n",
    "        max=500,\n",
    "        step=0.01,\n",
    "        description=\"Far field Temp.\",\n",
    "        layout=Layout(width=\"30%\", height=\"30px\"),\n",
    "        style=style,\n",
    "    )\n",
    "\n",
    "\n",
    "    f = wg.FloatSlider(\n",
    "        min=0,\n",
    "        max=1,\n",
    "        step=0.01,\n",
    "        description=\"Reflectance\",\n",
    "        layout=Layout(width=\"30%\", height=\"30px\"),\n",
    "        style=style,\n",
    "    )\n",
    "\n",
    "\n",
    "    display(\n",
    "        R,\n",
    "        L,\n",
    "        n_rows,\n",
    "        n_cols,\n",
    "        k,\n",
    "        C_p,\n",
    "        rho,\n",
    "        h,\n",
    "        dt,\n",
    "        T_init,\n",
    "        T_inf,\n",
    "        f,\n",
    "    )\n",
    "\n",
    "\n",
    "\n",
    "    ##### TEMPERATURE MODEL ######\n",
    "\n",
    "    def model(n_rows, n_cols, R, L, k, C_p, rho, h, dt, T_inf, T_init, f):\n",
    "        # now we construct the M matrix by stepping over every cell and filling in the coefficients on the given\n",
    "        # cell and the (usually) four neighboring cells\n",
    "        \n",
    "        R = R/1000\n",
    "        L = L/100\n",
    "\n",
    "        dr = R / n_cols  # width of cells\n",
    "        dz = L / n_rows  # height of cells\n",
    "        alpha = k / (rho * C_p)  # thermal diffusivity m^2/s\n",
    "        N = n_rows * n_cols  # number of degrees of freedom\n",
    "\n",
    "        s = zeros(400)\n",
    "        s[200] = 1\n",
    "        s = ndimage.gaussian_filter(s, 50)\n",
    "        s /= s.max()\n",
    "        s *= 60_000\n",
    "\n",
    "        I = zeros(\n",
    "            n_cols\n",
    "        )  # luminous power input (W/m^2) as a function of radius along the top\n",
    "        I[:] = s[200:]\n",
    "        \n",
    "        \n",
    "        r = linspace(0, R, n_cols + 1)  # radius values at cell boundaries\n",
    "        r_half = (r[1:] + r[:-1]) / 2  # radius values at cell centers\n",
    "        z = linspace(0, L, n_rows + 1)  # height values at cell boundaries\n",
    "        \n",
    "        \n",
    "        M = zeros((N, N))  # coefficients in above equation\n",
    "        C = zeros(N)  # constant term arising from Dirichlet BCs\n",
    "\n",
    "        for row in tqdm(arange(n_rows)):\n",
    "            for col in arange(n_cols):\n",
    "                if row != 0 and row != n_rows - 1:  # neither top nor bottom\n",
    "                    if col != 0 and col != n_cols - 1:  # also not left or right wall\n",
    "                        # we are in a typical internal cell\n",
    "                        coeff = alpha * dt\n",
    "                        # which DOF number are we considering now; also which M row\n",
    "                        i = row * n_cols + col\n",
    "                        \n",
    "                        i_E = i + 1  # dof for east cell\n",
    "                        i_W = i - 1  # west cell\n",
    "                        i_N = i - n_cols\n",
    "                        i_S = i + n_cols\n",
    "                        # coeff on east cell:\n",
    "                        M[i, i_E] = coeff * (r[col + 1] / r_half[col]) / dr ** 2\n",
    "                        # coeff on west cell:\n",
    "                        M[i, i_W] = coeff * (r[col] / r_half[col]) / dr ** 2\n",
    "\n",
    "                        M[i, i_N] = coeff * 1 / dz ** 2  # coeff on north cell\n",
    "                        M[i, i_S] = coeff * 1 / dz ** 2  # coeff on south cell\n",
    "\n",
    "                        M[i, i] = -(M[i, i_E] + M[i, i_W] + M[i, i_N] + M[i, i_S])\n",
    "\n",
    "                    elif (\n",
    "                        col == n_cols - 1\n",
    "                    ):  # we are not top or bottom, but we are on the right wall...\n",
    "                        coeff = alpha * dt\n",
    "                        # which DOF number are we considering now; also which M row\n",
    "                        i = row * n_cols + col\n",
    "                        \n",
    "\n",
    "                        # there is no east cell...\n",
    "                        i_W = i - 1  # west cell\n",
    "                        i_N = i - n_cols\n",
    "                        i_S = i + n_cols\n",
    "\n",
    "                        # M[i, i_E] = coeff * (r[col + 1] / r_half[col]) / dr ** 2\n",
    "                        # coeff on west cell:\n",
    "                        M[i, i_W] = coeff * (r[col] / r_half[col]) / dr ** 2\n",
    "\n",
    "                        M[i, i_N] = coeff * 1 / dz ** 2  # coeff on north cell\n",
    "                        M[i, i_S] = coeff * 1 / dz ** 2  # coeff on south cell\n",
    "\n",
    "                        # this cell:\n",
    "                        C[i] = (\n",
    "                            coeff * (r[col + 1] / r_half[col]) * T_inf / dr ** 2\n",
    "                        )  # Dirichlet BC\n",
    "                        M[i, i] = -(\n",
    "                            (coeff * (r[col + 1] / r_half[col]) / dr ** 2)\n",
    "                            + M[i, i_W]\n",
    "                            + M[i, i_N]\n",
    "                            + M[i, i_S]\n",
    "                        )\n",
    "                    else:  # then we are on the left wall\n",
    "                        coeff = alpha * dt\n",
    "                        # which DOF number are we considering now; also which M row\n",
    "                        i = row * n_cols + col\n",
    "                        i_E = i + 1  # dof for east cell\n",
    "                        \n",
    "                        # there is no west cell\n",
    "                        i_N = i - n_cols\n",
    "                        i_S = i + n_cols\n",
    "                        # coeff on east cell:\n",
    "                        M[i, i_E] = coeff * (r[col + 1] / r_half[col]) / dr ** 2\n",
    "                        # coeff on west cell would vanish due to r[col]=0 here:\n",
    "                        # M[i, i_W] = coeff * (r[col] / r_half[col]) / dr ** 2\n",
    "\n",
    "                        M[i, i_N] = coeff * 1 / dz ** 2  # coeff on north cell\n",
    "                        M[i, i_S] = coeff * 1 / dz ** 2  # coeff on south cell\n",
    "\n",
    "                        M[i, i] = -(M[i, i_E] + M[i, i_N] + M[i, i_S])\n",
    "\n",
    "                else:  # we are top or bottom, but we need to treat them separately\n",
    "                    if row == n_rows - 1:  # bottom\n",
    "                        if (\n",
    "                            col != 0 and col != n_cols - 1\n",
    "                        ):  # but not the bottom right corner or the bottom left corner\n",
    "                            coeff = alpha * dt\n",
    "                            # which DOF number are we considering now; also which M row\n",
    "                            i = row * n_cols + col\n",
    "                            \n",
    "                            i_E = i + 1  # dof for east cell\n",
    "                            i_W = i - 1  # west cell\n",
    "                            i_N = i - n_cols\n",
    "                            # we have no south cell, but we assume a phantom with T=T_inf\n",
    "                            # coeff on east cell:\n",
    "                            M[i, i_E] = coeff * (r[col + 1] / r_half[col]) / dr ** 2\n",
    "                            # coeff on west cell:\n",
    "                            M[i, i_W] = coeff * (r[col] / r_half[col]) / dr ** 2\n",
    "\n",
    "                            M[i, i_N] = coeff * 1 / dz ** 2  # coeff on north cell\n",
    "                            # M[i, i_S] = coeff * 1 / dz ** 2  # coeff on south cell\n",
    "\n",
    "                            C[i] = (\n",
    "                                coeff * T_inf / dz ** 2\n",
    "                            )  # Dirichlet BC for bottom face\n",
    "                            M[i, i] = -(\n",
    "                                M[i, i_E]\n",
    "                                + M[i, i_W]\n",
    "                                + M[i, i_N]\n",
    "                                + (coeff * 1 / dz ** 2)\n",
    "                            )\n",
    "                        elif col == n_cols - 1:  # we are on the bottom right corner\n",
    "                            coeff = alpha * dt\n",
    "                            # which DOF number are we considering now; also which M row\n",
    "                            i = row * n_cols + col\n",
    "                            \n",
    "                            i_W = i - 1  # west cell\n",
    "                            i_N = i - n_cols\n",
    "                            # we have no south cell, but we assume a phantom with T_S=T_inf\n",
    "                            # we also have no east cell, but we assume a phantom with T_E=T_inf\n",
    "                            # coeff on east cell:\n",
    "\n",
    "                            # coeff on west cell:\n",
    "                            M[i, i_W] = coeff * (r[col] / r_half[col]) / dr ** 2\n",
    "\n",
    "                            M[i, i_N] = coeff * 1 / dz ** 2  # coeff on north cell\n",
    "\n",
    "                            C[i] = (\n",
    "                                coeff * T_inf / dz ** 2\n",
    "                            ) + (  # Dirichlet BC for bottom face\n",
    "                                coeff * (r[col + 1] / r_half[col]) * T_inf / dr ** 2\n",
    "                            )  # east face\n",
    "                            M[i, i] = -(\n",
    "                                (coeff * (r[col + 1] / r_half[col]) / dr ** 2)\n",
    "                                + M[i, i_W]\n",
    "                                + M[i, i_N]\n",
    "                                + (coeff * 1 / dz ** 2)\n",
    "                            )\n",
    "                        else:  # we are on the bottom left corner\n",
    "                            coeff = alpha * dt\n",
    "                            # which DOF number are we considering now; also which M row\n",
    "                            i = row * n_cols + col\n",
    "                            \n",
    "                            i_E = i + 1  # dof for east cell\n",
    "                            i_W = i - 1  # west cell\n",
    "                            i_N = i - n_cols\n",
    "                            # we have no south cell, but we assume a phantom with T=T_inf\n",
    "                            # coeff on east cell:\n",
    "                            M[i, i_E] = coeff * (r[col + 1] / r_half[col]) / dr ** 2\n",
    "                            # we have no west cell\n",
    "\n",
    "                            M[i, i_N] = coeff * 1 / dz ** 2  # coeff on north cell\n",
    "                            # M[i, i_S] = coeff * 1 / dz ** 2  # coeff on south cell\n",
    "\n",
    "                            C[i] = (\n",
    "                                coeff * T_inf / dz ** 2\n",
    "                            )  # Dirichlet BC for bottom face\n",
    "                            M[i, i] = -(M[i, i_E] + M[i, i_N] + (coeff * 1 / dz ** 2))\n",
    "\n",
    "                    else:  # we are on the top face\n",
    "                        if (\n",
    "                            col != 0 and col != n_cols - 1\n",
    "                        ):  # but not the upper left or upper right corner\n",
    "                            coeff = alpha * dt\n",
    "                            # which DOF number are we considering now; also which M row\n",
    "                            i = row * n_cols + col\n",
    "                            \n",
    "\n",
    "                            i_E = i + 1  # dof for east cell\n",
    "                            i_W = i - 1  # west cell\n",
    "                            # we don't have a north cell\n",
    "                            i_S = i + n_cols\n",
    "                            # coeff on east cell:\n",
    "                            M[i, i_E] = coeff * (r[col + 1] / r_half[col]) / dr ** 2\n",
    "                            # coeff on west cell:\n",
    "                            M[i, i_W] = coeff * (r[col] / r_half[col]) / dr ** 2\n",
    "\n",
    "                            # there is no north cell M[i, i_N] = coeff * 1 / dz ** 2  # coeff on north cell\n",
    "\n",
    "                            M[i, i_S] = coeff * 1 / dz ** 2  # coeff on south cell\n",
    "\n",
    "                            C[i] = (\n",
    "                                coeff\n",
    "                                * (\n",
    "                                    (h * T_inf)  # heat xfer top BC\n",
    "                                    + ((1 - f) * I[col])  # luminuous power BC\n",
    "                                )\n",
    "                                / (k * dz)\n",
    "                            )\n",
    "\n",
    "                            M[i, i] = -(\n",
    "                                M[i, i_E]\n",
    "                                + M[i, i_W]\n",
    "                                + (coeff * h / (k * dz))\n",
    "                                + M[i, i_S]\n",
    "                            )\n",
    "\n",
    "                        elif col == 0:  # the upper left corner\n",
    "                            coeff = alpha * dt\n",
    "                            # which DOF number are we considering now; also which M row\n",
    "                            i = row * n_cols + col\n",
    "                            \n",
    "                            i_E = i + 1  # dof for east cell\n",
    "                            # there is no west cell\n",
    "                            # we don't have a north cell\n",
    "                            i_S = i + n_cols\n",
    "                            # coeff on east cell:\n",
    "                            M[i, i_E] = coeff * (r[col + 1] / r_half[col]) / dr ** 2\n",
    "                            # coeff on west cell:\n",
    "\n",
    "                            # there is no north cell M[i, i_N] = coeff * 1 / dz ** 2  # coeff on north cell\n",
    "\n",
    "                            M[i, i_S] = coeff * 1 / dz ** 2  # coeff on south cell\n",
    "\n",
    "                            C[i] = (\n",
    "                                coeff\n",
    "                                * (\n",
    "                                    (h * T_inf)  # heat xfer top BC\n",
    "                                    + ((1 - f) * I[col])  # luminuous power BC\n",
    "                                )\n",
    "                                / (k * dz)\n",
    "                            )\n",
    "\n",
    "                            M[i, i] = -(M[i, i_E] + (coeff * h / (k * dz)) + M[i, i_S])\n",
    "                        else:  # the upper right corner cell\n",
    "                            coeff = alpha * dt\n",
    "                            # which DOF number are we considering now; also which M row\n",
    "                            i = row * n_cols + col\n",
    "                            \n",
    "                            # we don't have an east cell\n",
    "                            i_W = i - 1 \n",
    "                            # west cell\n",
    "                            # we don't have a north cell\n",
    "                            i_S = i + n_cols\n",
    "                            # coeff on east cell:\n",
    "                            # M[i, i_E] = coeff * (r[col + 1] / r_half[col]) / dr ** 2\n",
    "                            # coeff on west cell:\n",
    "                            M[i, i_W] = coeff * (r[col] / r_half[col]) / dr ** 2\n",
    "\n",
    "                            # there is no north cell M[i, i_N] = coeff * 1 / dz ** 2  # coeff on north cell\n",
    "\n",
    "                            M[i, i_S] = coeff * 1 / dz ** 2  # coeff on south cell\n",
    "\n",
    "                            C[i] = (\n",
    "                                coeff\n",
    "                                * (\n",
    "                                    (h * T_inf)  # heat xfer top BC\n",
    "                                    + ((1 - f) * I[col])  # luminuous power BC\n",
    "                                )\n",
    "                                / (k * dz)\n",
    "                            ) + (coeff * T_inf * (r[col + 1] / r_half[col]) / dr ** 2)\n",
    "\n",
    "                            M[i, i] = -(\n",
    "                                (coeff * (r[col + 1] / r_half[col]) / dr ** 2)\n",
    "                                + M[i, i_W]\n",
    "                                + (coeff * h / (k * dz))\n",
    "                                + M[i, i_S]\n",
    "                            )\n",
    "        changes = []\n",
    "\n",
    "        T = T_init * ones(N)  # vector of temperatures\n",
    "\n",
    "        for i in tqdm(range(1000)):\n",
    "            deltaT = M @ T + C\n",
    "            T += deltaT\n",
    "            changes.append(deltaT.max())\n",
    "\n",
    "        T_plot = T.reshape(n_rows, n_cols) - 273.15\n",
    "        print(T_plot)\n",
    "\n",
    "        fig, ax = plt.subplots(1, 1, figsize=(20, 1))\n",
    "        im = ax.imshow(T_plot)\n",
    "        cb = plt.colorbar(im, ax = ax)\n",
    "        cb.ax.tick_params(labelsize=16)\n",
    "\n",
    "        plt.show()\n",
    "\n",
    "    def file_change(change):\n",
    "        with out1:\n",
    "            clear_output()\n",
    "            interact(\n",
    "                model,\n",
    "                n_rows=n_rows,\n",
    "                n_cols=n_cols,\n",
    "                R=R,\n",
    "                L=L,\n",
    "                k=k,\n",
    "                C_p=C_p,\n",
    "                rho=rho,\n",
    "                h=h,\n",
    "                dt=dt,\n",
    "                T_inf=T_inf,\n",
    "                T_init=T_init,\n",
    "                f=f,\n",
    "            )\n",
    "\n",
    "    T_init.observe(file_change, names=\"value\")\n",
    "    display(tab)"
   ]
  },
  {
   "cell_type": "code",
   "execution_count": null,
   "id": "d31fc214",
   "metadata": {},
   "outputs": [],
   "source": [
    "T_model()"
   ]
  },
  {
   "cell_type": "code",
   "execution_count": null,
   "id": "ce2e7c14",
   "metadata": {},
   "outputs": [],
   "source": [
    "from ipywidgets import interact, fixed\n",
    "\n",
    "def g(dat, x_n):\n",
    "    print(f\"dat={dat}, x_n={x_n} from inside g\")\n",
    "    return dat\n",
    "\n",
    "interact(g, x_n=10, dat=fixed(\"a\"));"
   ]
  },
  {
   "cell_type": "code",
   "execution_count": null,
   "id": "faaeca9a",
   "metadata": {},
   "outputs": [],
   "source": []
  },
  {
   "cell_type": "code",
   "execution_count": null,
   "id": "a3d41fe5",
   "metadata": {},
   "outputs": [],
   "source": []
  },
  {
   "cell_type": "code",
   "execution_count": null,
   "id": "9e6b9685",
   "metadata": {},
   "outputs": [],
   "source": [
    "# Problem setup"
   ]
  },
  {
   "cell_type": "markdown",
   "id": "4c9ffb5f",
   "metadata": {},
   "source": [
    "## Constants\n",
    "\n",
    "We start by defining certain constants which arise from the geometry of the model as well as thermal and transport properties:"
   ]
  },
  {
   "cell_type": "code",
   "execution_count": null,
   "id": "58909e70",
   "metadata": {},
   "outputs": [],
   "source": [
    "# NOTE: all units here are in pure SI (kg, m, s, K as base units)\n",
    "R = 5e-2  # radius of the cylindrical system (m)\n",
    "L = 100e-6  # height of the cylindrical system (m)\n",
    "n_rows = 20  # number of rows in the finite volume mesh\n",
    "n_cols = 200  # number of columns in the finite volume mesh\n",
    "dr = R / n_cols  # width of cells\n",
    "dz = L / n_rows  # height of cells\n",
    "k = 0.2  # thermal conductivity of substrate (paint) (W/(m K))\n",
    "C_p = 2500.0  # specific heat capacity of paint (W/(m^2 K))\n",
    "rho = 1500.0  # ( = 1.5 g/mL) mass density of paint (kg/m^3)\n",
    "alpha = k / (rho * C_p)  # thermal diffusivity m^2/s\n",
    "h = 11.9  # (W/(m^2 K)), converted from 2.1 Btu/(hr ft^2 degF) heat transfer coefficient from the top-facing surface\n",
    "N = n_rows * n_cols  # number of degrees of freedom\n",
    "dt = 1e-5  # timestep (s)\n",
    "T_inf = 22.5 + 273.15  # 20 degC far-field temperature (K)\n",
    "T_initial = 22.5 + 273.15\n",
    "f = 0.05  # mean reflectance over the wavelength range of the input power\n",
    "f'The number of unknown temperatures is {N}.'"
   ]
  },
  {
   "cell_type": "code",
   "execution_count": null,
   "id": "0815dc01",
   "metadata": {},
   "outputs": [],
   "source": [
    "alpha, dr, dz"
   ]
  },
  {
   "cell_type": "code",
   "execution_count": null,
   "id": "73706dc2",
   "metadata": {},
   "outputs": [],
   "source": [
    "s = zeros(400)\n",
    "s[200] = 1\n",
    "s = ndimage.gaussian_filter(s, 10)\n",
    "s /= s.max()\n",
    "s *= 60_000\n",
    "plot(s)"
   ]
  },
  {
   "cell_type": "code",
   "execution_count": null,
   "id": "699b59f6",
   "metadata": {},
   "outputs": [],
   "source": [
    "n_cols"
   ]
  },
  {
   "cell_type": "code",
   "execution_count": null,
   "id": "03bc67e7",
   "metadata": {},
   "outputs": [],
   "source": [
    "I = zeros(n_cols)  # luminous power input (W/m^2) as a function of radius along the top\n",
    "I[:] = s[200:]\n",
    "\n",
    "plot(I)"
   ]
  },
  {
   "cell_type": "markdown",
   "id": "71d122d6",
   "metadata": {},
   "source": [
    "## Mesh\n",
    "\n",
    "Here we define the mesh.  It should be noted that in this setup, the surface of the substrate is at $z=0$ and that increasing values of $z$ move deeper into the substrate (downward).\n"
   ]
  },
  {
   "cell_type": "code",
   "execution_count": null,
   "id": "200d96f8",
   "metadata": {},
   "outputs": [],
   "source": [
    "r = linspace(0, R, n_cols + 1)  # radius values at cell boundaries\n",
    "r_half = (r[1:] + r[:-1]) / 2  # radius values at cell centers\n",
    "z = linspace(0, L, n_rows + 1)  # height values at cell boundaries"
   ]
  },
  {
   "cell_type": "code",
   "execution_count": null,
   "id": "231e3c1d",
   "metadata": {},
   "outputs": [],
   "source": [
    "diff(z), dz"
   ]
  },
  {
   "cell_type": "code",
   "execution_count": null,
   "id": "d4c86636",
   "metadata": {},
   "outputs": [],
   "source": [
    "r_half.shape, n_cols"
   ]
  },
  {
   "cell_type": "markdown",
   "id": "493024c5",
   "metadata": {},
   "source": [
    "## Problem setup\n",
    "\n",
    "We will write the time-stepping algorithm as $$\\mathbf{T}^{k+1} = \\mathbf{T}^{k} + \\mathbf{M} \\mathbf{T}^{k} + \\mathbf{C},$$ where $\\mathbf{T}$ is an $N$-dimensional vector of temperature degrees of freedom, superscript indicates timestep number, and $\\mathbf{M}$ is an $N\\times N$ matrix."
   ]
  },
  {
   "cell_type": "code",
   "execution_count": null,
   "id": "d90ea3c5",
   "metadata": {},
   "outputs": [],
   "source": [
    "M = zeros((N, N))  # coefficients in above equation\n",
    "C = zeros(N)  # constant term arising from Dirichlet BCs"
   ]
  },
  {
   "cell_type": "code",
   "execution_count": null,
   "id": "fe7944b3",
   "metadata": {},
   "outputs": [],
   "source": [
    "M[101,103]"
   ]
  },
  {
   "cell_type": "code",
   "execution_count": null,
   "id": "4bc126b6",
   "metadata": {},
   "outputs": [],
   "source": [
    "M.shape"
   ]
  },
  {
   "cell_type": "code",
   "execution_count": null,
   "id": "a5aac165",
   "metadata": {},
   "outputs": [],
   "source": [
    "counter = zeros(N)"
   ]
  },
  {
   "cell_type": "code",
   "execution_count": null,
   "id": "43595263",
   "metadata": {},
   "outputs": [],
   "source": [
    "# now we construct the M matrix by stepping over every cell and filling in the coefficients on the given\n",
    "# cell and the (usually) four neighboring cells\n",
    "for row in tqdm(arange(n_rows)):\n",
    "    for col in arange(n_cols):\n",
    "        if row != 0 and row != n_rows - 1:  # neither top nor bottom\n",
    "            if col != 0 and col != n_cols - 1:  # also not left or right wall\n",
    "                # we are in a typical internal cell\n",
    "                coeff = alpha * dt\n",
    "                # which DOF number are we considering now; also which M row\n",
    "                i = row * n_cols + col\n",
    "                counter[i] += 1\n",
    "                i_E = i + 1  # dof for east cell\n",
    "                i_W = i - 1  # west cell\n",
    "                i_N = i - n_cols\n",
    "                i_S = i + n_cols\n",
    "                # coeff on east cell:\n",
    "                M[i, i_E] = coeff * (r[col + 1] / r_half[col]) / dr ** 2\n",
    "                # coeff on west cell:\n",
    "                M[i, i_W] = coeff * (r[col] / r_half[col]) / dr ** 2\n",
    "\n",
    "                M[i, i_N] = coeff * 1 / dz ** 2  # coeff on north cell\n",
    "                M[i, i_S] = coeff * 1 / dz ** 2  # coeff on south cell\n",
    "\n",
    "                M[i, i] = -(M[i, i_E] + M[i, i_W] + M[i, i_N] + M[i, i_S])\n",
    "\n",
    "            elif (\n",
    "                col == n_cols - 1\n",
    "            ):  # we are not top or bottom, but we are on the right wall...\n",
    "                coeff = alpha * dt\n",
    "                # which DOF number are we considering now; also which M row\n",
    "                i = row * n_cols + col\n",
    "                counter[i] += 1\n",
    "\n",
    "                # there is no east cell...\n",
    "                i_W = i - 1  # west cell\n",
    "                i_N = i - n_cols\n",
    "                i_S = i + n_cols\n",
    "\n",
    "                # M[i, i_E] = coeff * (r[col + 1] / r_half[col]) / dr ** 2\n",
    "                # coeff on west cell:\n",
    "                M[i, i_W] = coeff * (r[col] / r_half[col]) / dr ** 2\n",
    "\n",
    "                M[i, i_N] = coeff * 1 / dz ** 2  # coeff on north cell\n",
    "                M[i, i_S] = coeff * 1 / dz ** 2  # coeff on south cell\n",
    "\n",
    "                # this cell:\n",
    "                C[i] = (\n",
    "                    coeff * (r[col + 1] / r_half[col]) * T_inf / dr ** 2\n",
    "                )  # Dirichlet BC\n",
    "                M[i, i] = -(\n",
    "                    (coeff * (r[col + 1] / r_half[col]) / dr ** 2)\n",
    "                    + M[i, i_W]\n",
    "                    + M[i, i_N]\n",
    "                    + M[i, i_S]\n",
    "                )\n",
    "            else:  # then we are on the left wall\n",
    "                coeff = alpha * dt\n",
    "                # which DOF number are we considering now; also which M row\n",
    "                i = row * n_cols + col\n",
    "                i_E = i + 1  # dof for east cell\n",
    "                counter[i] += 1\n",
    "                # there is no west cell\n",
    "                i_N = i - n_cols\n",
    "                i_S = i + n_cols\n",
    "                # coeff on east cell:\n",
    "                M[i, i_E] = coeff * (r[col + 1] / r_half[col]) / dr ** 2\n",
    "                # coeff on west cell would vanish due to r[col]=0 here:\n",
    "                # M[i, i_W] = coeff * (r[col] / r_half[col]) / dr ** 2\n",
    "\n",
    "                M[i, i_N] = coeff * 1 / dz ** 2  # coeff on north cell\n",
    "                M[i, i_S] = coeff * 1 / dz ** 2  # coeff on south cell\n",
    "\n",
    "                M[i, i] = -(M[i, i_E] + M[i, i_N] + M[i, i_S])\n",
    "\n",
    "        else:  # we are top or bottom, but we need to treat them separately\n",
    "            if row == n_rows - 1:  # bottom\n",
    "                if (\n",
    "                    col != 0 and col != n_cols - 1\n",
    "                ):  # but not the bottom right corner or the bottom left corner\n",
    "                    coeff = alpha * dt\n",
    "                    # which DOF number are we considering now; also which M row\n",
    "                    i = row * n_cols + col\n",
    "                    counter[i] += 1\n",
    "                    i_E = i + 1  # dof for east cell\n",
    "                    i_W = i - 1  # west cell\n",
    "                    i_N = i - n_cols\n",
    "                    # we have no south cell, but we assume a phantom with T=T_inf\n",
    "                    # coeff on east cell:\n",
    "                    M[i, i_E] = coeff * (r[col + 1] / r_half[col]) / dr ** 2\n",
    "                    # coeff on west cell:\n",
    "                    M[i, i_W] = coeff * (r[col] / r_half[col]) / dr ** 2\n",
    "\n",
    "                    M[i, i_N] = coeff * 1 / dz ** 2  # coeff on north cell\n",
    "                    # M[i, i_S] = coeff * 1 / dz ** 2  # coeff on south cell\n",
    "\n",
    "                    C[i] = coeff * T_inf / dz ** 2  # Dirichlet BC for bottom face\n",
    "                    M[i, i] = -(\n",
    "                        M[i, i_E] + M[i, i_W] + M[i, i_N] + (coeff * 1 / dz ** 2)\n",
    "                    )\n",
    "                elif col == n_cols - 1:  # we are on the bottom right corner\n",
    "                    coeff = alpha * dt\n",
    "                    # which DOF number are we considering now; also which M row\n",
    "                    i = row * n_cols + col\n",
    "                    counter[i] += 1\n",
    "                    i_W = i - 1  # west cell\n",
    "                    i_N = i - n_cols\n",
    "                    # we have no south cell, but we assume a phantom with T_S=T_inf\n",
    "                    # we also have no east cell, but we assume a phantom with T_E=T_inf\n",
    "                    # coeff on east cell:\n",
    "\n",
    "                    # coeff on west cell:\n",
    "                    M[i, i_W] = coeff * (r[col] / r_half[col]) / dr ** 2\n",
    "\n",
    "                    M[i, i_N] = coeff * 1 / dz ** 2  # coeff on north cell\n",
    "\n",
    "                    C[i] = (coeff * T_inf / dz ** 2) + (  # Dirichlet BC for bottom face\n",
    "                        coeff * (r[col + 1] / r_half[col]) * T_inf / dr ** 2\n",
    "                    )  # east face\n",
    "                    M[i, i] = -(\n",
    "                        (coeff * (r[col + 1] / r_half[col]) / dr ** 2)\n",
    "                        + M[i, i_W]\n",
    "                        + M[i, i_N]\n",
    "                        + (coeff * 1 / dz ** 2)\n",
    "                    )\n",
    "                else:  # we are on the bottom left corner\n",
    "                    coeff = alpha * dt\n",
    "                    # which DOF number are we considering now; also which M row\n",
    "                    i = row * n_cols + col\n",
    "                    counter[i] += 1\n",
    "                    i_E = i + 1  # dof for east cell\n",
    "                    i_W = i - 1  # west cell\n",
    "                    i_N = i - n_cols\n",
    "                    # we have no south cell, but we assume a phantom with T=T_inf\n",
    "                    # coeff on east cell:\n",
    "                    M[i, i_E] = coeff * (r[col + 1] / r_half[col]) / dr ** 2\n",
    "                    # we have no west cell\n",
    "\n",
    "                    M[i, i_N] = coeff * 1 / dz ** 2  # coeff on north cell\n",
    "                    # M[i, i_S] = coeff * 1 / dz ** 2  # coeff on south cell\n",
    "\n",
    "                    C[i] = coeff * T_inf / dz ** 2  # Dirichlet BC for bottom face\n",
    "                    M[i, i] = -(M[i, i_E] + M[i, i_N] + (coeff * 1 / dz ** 2))\n",
    "\n",
    "            else:  # we are on the top face\n",
    "                if (\n",
    "                    col != 0 and col != n_cols - 1\n",
    "                ):  # but not the upper left or upper right corner\n",
    "                    coeff = alpha * dt\n",
    "                    # which DOF number are we considering now; also which M row\n",
    "                    i = row * n_cols + col\n",
    "                    counter[i] += 1\n",
    "\n",
    "                    i_E = i + 1  # dof for east cell\n",
    "                    i_W = i - 1  # west cell\n",
    "                    # we don't have a north cell\n",
    "                    i_S = i + n_cols\n",
    "                    # coeff on east cell:\n",
    "                    M[i, i_E] = coeff * (r[col + 1] / r_half[col]) / dr ** 2\n",
    "                    # coeff on west cell:\n",
    "                    M[i, i_W] = coeff * (r[col] / r_half[col]) / dr ** 2\n",
    "\n",
    "                    # there is no north cell M[i, i_N] = coeff * 1 / dz ** 2  # coeff on north cell\n",
    "\n",
    "                    M[i, i_S] = coeff * 1 / dz ** 2  # coeff on south cell\n",
    "\n",
    "                    C[i] = (\n",
    "                        coeff\n",
    "                        * (\n",
    "                            (h * T_inf)  # heat xfer top BC\n",
    "                            + ((1 - f) * I[col])  # luminuous power BC\n",
    "                        )\n",
    "                        / (k * dz)\n",
    "                    )\n",
    "\n",
    "                    M[i, i] = -(\n",
    "                        M[i, i_E] + M[i, i_W] + (coeff * h / (k * dz)) + M[i, i_S]\n",
    "                    )\n",
    "\n",
    "                elif col == 0:  # the upper left corner\n",
    "                    coeff = alpha * dt\n",
    "                    # which DOF number are we considering now; also which M row\n",
    "                    i = row * n_cols + col\n",
    "                    counter[i] += 1\n",
    "                    i_E = i + 1  # dof for east cell\n",
    "                    # there is no west cell\n",
    "                    # we don't have a north cell\n",
    "                    i_S = i + n_cols\n",
    "                    # coeff on east cell:\n",
    "                    M[i, i_E] = coeff * (r[col + 1] / r_half[col]) / dr ** 2\n",
    "                    # coeff on west cell:\n",
    "                    \n",
    "\n",
    "                    # there is no north cell M[i, i_N] = coeff * 1 / dz ** 2  # coeff on north cell\n",
    "\n",
    "                    M[i, i_S] = coeff * 1 / dz ** 2  # coeff on south cell\n",
    "\n",
    "                    C[i] = (\n",
    "                        coeff\n",
    "                        * (\n",
    "                            (h * T_inf)  # heat xfer top BC\n",
    "                            + ((1 - f) * I[col])  # luminuous power BC\n",
    "                        )\n",
    "                        / (k * dz)\n",
    "                    )\n",
    "\n",
    "                    M[i, i] = -(\n",
    "                        M[i, i_E] + (coeff * h / (k * dz)) + M[i, i_S]\n",
    "                    )\n",
    "                else: # the upper right corner cell\n",
    "                    coeff = alpha * dt\n",
    "                    # which DOF number are we considering now; also which M row\n",
    "                    i = row * n_cols + col\n",
    "                    counter[i] += 1\n",
    "                    # we don't have an east cell\n",
    "                    i_W = i - 1  # west cell\n",
    "                    # we don't have a north cell\n",
    "                    i_S = i + n_cols\n",
    "                    # coeff on east cell:\n",
    "                    # M[i, i_E] = coeff * (r[col + 1] / r_half[col]) / dr ** 2\n",
    "                    # coeff on west cell:\n",
    "                    M[i, i_W] = coeff * (r[col] / r_half[col]) / dr ** 2\n",
    "\n",
    "                    # there is no north cell M[i, i_N] = coeff * 1 / dz ** 2  # coeff on north cell\n",
    "\n",
    "                    M[i, i_S] = coeff * 1 / dz ** 2  # coeff on south cell\n",
    "\n",
    "                    C[i] = (\n",
    "                        coeff\n",
    "                        * (\n",
    "                            (h * T_inf)  # heat xfer top BC\n",
    "                            + ((1 - f) * I[col])  # luminuous power BC\n",
    "                        )\n",
    "                        / (k * dz)\n",
    "                    ) + (coeff * T_inf * (r[col + 1] / r_half[col]) / dr ** 2)\n",
    "\n",
    "                    M[i, i] = -(\n",
    "                        (coeff * (r[col + 1] / r_half[col]) / dr ** 2) + M[i, i_W] + (coeff * h / (k * dz)) + M[i, i_S]\n",
    "                    )\n",
    "                    \n",
    "\n"
   ]
  },
  {
   "cell_type": "code",
   "execution_count": null,
   "id": "c1ec2d80",
   "metadata": {},
   "outputs": [],
   "source": [
    "plot(counter)  # did we write the equation for each cell one and only one time?"
   ]
  },
  {
   "cell_type": "code",
   "execution_count": null,
   "id": "3f6f029b",
   "metadata": {},
   "outputs": [],
   "source": [
    "imshow(M)"
   ]
  },
  {
   "cell_type": "code",
   "execution_count": null,
   "id": "9379a88c",
   "metadata": {},
   "outputs": [],
   "source": [
    "plot(C)"
   ]
  },
  {
   "cell_type": "markdown",
   "id": "b2595977",
   "metadata": {},
   "source": [
    "## Timestepping from the known initial condition"
   ]
  },
  {
   "cell_type": "code",
   "execution_count": null,
   "id": "14fd4150",
   "metadata": {},
   "outputs": [],
   "source": [
    "changes = []\n",
    "\n",
    "T = T_initial * ones(N)  # vector of temperatures\n",
    "\n",
    "for i in tqdm(range(20000)):\n",
    "    deltaT = M @ T + C\n",
    "    T += deltaT\n",
    "    changes.append(deltaT.max())\n",
    "    # print(T.mean())"
   ]
  },
  {
   "cell_type": "code",
   "execution_count": null,
   "id": "087413ed",
   "metadata": {},
   "outputs": [],
   "source": [
    "semilogy(changes)"
   ]
  },
  {
   "cell_type": "code",
   "execution_count": null,
   "id": "2ab89a02",
   "metadata": {},
   "outputs": [],
   "source": [
    "r_plot = r[None].repeat(n_rows, axis=0)[:, :-1]\n",
    "z_plot = z[:, None].repeat(n_cols, axis=1)[:-1, :]"
   ]
  },
  {
   "cell_type": "code",
   "execution_count": null,
   "id": "e06364e6",
   "metadata": {},
   "outputs": [],
   "source": [
    "T_plot = T.reshape(n_rows, n_cols) - 273.15"
   ]
  },
  {
   "cell_type": "code",
   "execution_count": null,
   "id": "1e0f1251",
   "metadata": {},
   "outputs": [],
   "source": [
    "fig, ax = plt.subplots(1,1,figsize = (10,10))\n",
    "im = ax.imshow(T_plot,extent=(0, 0.25 * T_plot.shape[1],0.5 * T_plot.shape[0], 1))\n",
    "colorbar(im,ax = ax)\n",
    "\n",
    "ax.set_xlim(0,5)\n",
    "#ax.set_ylim()"
   ]
  },
  {
   "cell_type": "code",
   "execution_count": null,
   "id": "abd24863",
   "metadata": {},
   "outputs": [],
   "source": [
    "T_plot.shape[1]*0.25"
   ]
  },
  {
   "cell_type": "code",
   "execution_count": null,
   "id": "1ebe9a98",
   "metadata": {},
   "outputs": [],
   "source": [
    "c = contour(r_plot, z_plot, T_plot)\n",
    "# axis('image')\n",
    "ylim(ylim()[::-1])\n",
    "clabel(c)"
   ]
  },
  {
   "cell_type": "code",
   "execution_count": null,
   "id": "2020412e",
   "metadata": {},
   "outputs": [],
   "source": [
    "print(N)"
   ]
  },
  {
   "cell_type": "code",
   "execution_count": null,
   "id": "10735e6e",
   "metadata": {},
   "outputs": [],
   "source": []
  }
 ],
 "metadata": {
  "hide_input": false,
  "kernelspec": {
   "display_name": "Python 3 (ipykernel)",
   "language": "python",
   "name": "python3"
  },
  "language_info": {
   "codemirror_mode": {
    "name": "ipython",
    "version": 3
   },
   "file_extension": ".py",
   "mimetype": "text/x-python",
   "name": "python",
   "nbconvert_exporter": "python",
   "pygments_lexer": "ipython3",
   "version": "3.9.12"
  },
  "latex_envs": {
   "LaTeX_envs_menu_present": true,
   "autoclose": false,
   "autocomplete": true,
   "bibliofile": "biblio.bib",
   "cite_by": "apalike",
   "current_citInitial": 1,
   "eqLabelWithNumbers": true,
   "eqNumInitial": 1,
   "hotkeys": {
    "equation": "Ctrl-E",
    "itemize": "Ctrl-I"
   },
   "labels_anchors": false,
   "latex_user_defs": false,
   "report_style_numbering": false,
   "user_envs_cfg": false
  },
  "toc": {
   "base_numbering": 1,
   "nav_menu": {},
   "number_sections": true,
   "sideBar": true,
   "skip_h1_title": false,
   "title_cell": "Table of Contents",
   "title_sidebar": "Contents",
   "toc_cell": false,
   "toc_position": {
    "height": "calc(100% - 180px)",
    "left": "10px",
    "top": "150px",
    "width": "383.567px"
   },
   "toc_section_display": true,
   "toc_window_display": true
  },
  "toc-showtags": false
 },
 "nbformat": 4,
 "nbformat_minor": 5
}
