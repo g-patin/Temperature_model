{
 "cells": [
  {
   "cell_type": "markdown",
   "id": "831143a3",
   "metadata": {},
   "source": [
    "This notebook presents a thorough description of the thermal model that has been developed in the framework of Gauthier Patin's PhD at the University of Amsterdam."
   ]
  },
  {
   "cell_type": "markdown",
   "id": "54ff7d3b-c2a4-41c7-aeb1-a1833fbce00b",
   "metadata": {},
   "source": [
    "# Import"
   ]
  },
  {
   "cell_type": "code",
   "execution_count": 1,
   "id": "23385d55",
   "metadata": {},
   "outputs": [
    {
     "name": "stdout",
     "output_type": "stream",
     "text": [
      "%pylab is deprecated, use %matplotlib inline and import the required libraries.\n",
      "Populating the interactive namespace from numpy and matplotlib\n"
     ]
    }
   ],
   "source": [
    "%pylab inline\n",
    "%load_ext blackcellmagic\n",
    "%load_ext autoreload\n",
    "%autoreload 2\n",
    "\n",
    "from tqdm.auto import tqdm\n",
    "from scipy import ndimage\n",
    "import matplotlib.pyplot as plt\n",
    "\n",
    "from ipywidgets import Layout, Button, Box, interact, interactive, fixed, interact_manual\n",
    "import ipywidgets as wg\n",
    "from IPython.display import display, clear_output\n",
    "\n",
    "import Thermal_simulation_class\n",
    "import Thermal_model\n",
    "import Thermal_model_GIU"
   ]
  },
  {
   "cell_type": "markdown",
   "id": "f2667607",
   "metadata": {
    "tags": []
   },
   "source": [
    "# Table of symbols "
   ]
  },
  {
   "cell_type": "markdown",
   "id": "3ffd5306",
   "metadata": {},
   "source": [
    "| Symbol        | Unit        | Description  |\n",
    "|:----------    |:------------|:-------------|\n",
    "| $\\alpha$      | m$^2$/s     | thermal diffusivity |\n",
    "| $A_E$         | m$^2$       | area of east wall |\n",
    "| $A_W$         | m$^2$       | area of west wall |\n",
    "| $A_N$         | m$^2$       | area of north wall |\n",
    "| $A_S$         | m$^2$       | area of south wall |\n",
    "| $C_p$         | J/(kg K)    | specific heat capacity of paint |\n",
    "| $dt$          | s           | timestep     |\n",
    "| $dr$          | m           | width of cells   |\n",
    "| $dz$          | m           | height of cells  |\n",
    "| $h$           | W/(m$^2$K)  | Heat transfer coefficient from the top-facing surface   |\n",
    "| $k$           | W/(m K)     | Thermal conductivity of a material   |\n",
    "| $L$           | m           | height of the cylindrical system    |\n",
    "| $M$           | kg          | mass of the paint material    |\n",
    "| $N$           |             | number of degrees of freedom    |\n",
    "| $n$_cols      |             | number of columns in the finite volume mesh |\n",
    "| $n$_rows      |             | number of rows in the finite volume mesh |\n",
    "| $R$           | m           | radius of the cylindrical system    |\n",
    "| $\\rho$        | kg/m$^3$    | mass density of paint    |\n",
    "| $T_\\infty$    | K           | far field temperature    |\n",
    "| $T_{\\rm air}$ | K           | temperature of the surrounding air  |\n",
    "| $T_C$         | K           | temperature of the cell  |\n",
    "| $T_S$         | K           | temperature at the surface of the paint  |\n",
    "| $\\vec{q}$     | W/m$^2$     | heat flux   |\n",
    "| $Q$           | J           | heat        |\n",
    "| $V$           | m$^3$       | volume of cells     |\n",
    "| $\\nabla T$    | K           | vector of temperature gradient  |\n",
    "| $\\Delta T$    | K           | temperature difference  |"
   ]
  },
  {
   "cell_type": "markdown",
   "id": "a64b076c",
   "metadata": {
    "tags": []
   },
   "source": [
    "# Description"
   ]
  },
  {
   "cell_type": "markdown",
   "id": "e6ccb935",
   "metadata": {
    "tags": []
   },
   "source": [
    "## Figures "
   ]
  },
  {
   "cell_type": "markdown",
   "id": "08943fba",
   "metadata": {},
   "source": [
    "<img src=\"../Figures/Finite_mesh.png\" width=\"900px\">\n",
    "\n",
    "$$\\Large{\\text{Figure 1. Graphical representation of the finite mesh}}$$"
   ]
  },
  {
   "cell_type": "markdown",
   "id": "d67409f6",
   "metadata": {},
   "source": [
    "***\n",
    "<img src=\"../Figures/Neighbouring_cells.png\" width=\"500px\">\n",
    "\n",
    "$$\\Large{\\text{Figure 2. Center cell and its neighbour}}$$"
   ]
  },
  {
   "cell_type": "markdown",
   "id": "1d4421ab",
   "metadata": {
    "tags": []
   },
   "source": [
    "## Areas and volume "
   ]
  },
  {
   "cell_type": "markdown",
   "id": "6bbba468",
   "metadata": {},
   "source": [
    "$$\\Large \\text{Perimeter of a cicle} = \\Large 2 \\pi \\space r $$\n",
    "\n",
    "$$\\Large \\text{Area of a cicle} = \\Large \\pi \\space r^2 $$\n",
    "\n",
    "$$\\Large \\text{Volume of a cylinder} = \\Large \\pi \\space r^2 \\space h $$\n",
    "\n",
    "$$ \\text{where $r$ is the radius and $h$ the height.} $$"
   ]
  },
  {
   "cell_type": "markdown",
   "id": "7f6e3779",
   "metadata": {},
   "source": [
    "- - -\n",
    "\n",
    "\\begin{align}\n",
    "\\Large A_E &= \\Large (2 \\pi \\space r_{j+1}) \\space \\Delta z \\\\\n",
    "\\Large A_W &= \\Large (2 \\pi \\space r_{j}) \\space \\Delta z\\\\\n",
    "\\Large A_N &= \\Large \\pi \\space (r_{j+1})^2 -\\pi(r_j)^2\\\\\n",
    "&= \\Large 2\\pi \\space(r_{j+1}-r_j) \\space \\left[\\frac{(r_{j+1} + r_j)}{2}\\right]\\\\\n",
    "&= \\Large 2\\pi\\, \\Delta r\\, \\left[\\frac{(r_{j+1} + r_j)}{2}\\right]\\\\\n",
    "\\Large A_S &= \\Large 2\\pi \\space \\Delta r \\space \\left[\\frac{(r_{j+1} + r_j)}{2}\\right]\\\\\n",
    "\\Large V &= \\Large A_N \\Delta z \\\\\n",
    "&= \\Large 2\\pi\\,\\Delta z\\,\\Delta r\\, \\left[\\frac{(r_{j+1} + r_j)}{2}\\right]\\\\\n",
    "&= \\Large 2\\pi\\,\\Delta z\\,\\Delta r\\, r_{j+\\frac{1}{2}}\\\\\n",
    "\\end{align}"
   ]
  },
  {
   "cell_type": "markdown",
   "id": "de4334be",
   "metadata": {
    "tags": []
   },
   "source": [
    "# Initial conditions "
   ]
  },
  {
   "cell_type": "markdown",
   "id": "aa2c7459",
   "metadata": {},
   "source": [
    "$T_\\infty = T_{\\rm air}$\n",
    "\n",
    "$T(r,z,0) = T_\\infty$\n",
    "\n"
   ]
  },
  {
   "cell_type": "markdown",
   "id": "10c744c3",
   "metadata": {
    "tags": []
   },
   "source": [
    "# Boundary conditions"
   ]
  },
  {
   "cell_type": "markdown",
   "id": "bd005ec6",
   "metadata": {},
   "source": [
    "**TOP**\n",
    "\n",
    "$I = I_{in}(r) - fI_{in}(r)$\n",
    "\n",
    "$I(r) = (1-f)I_{in}(r) = q^{light}$\n",
    "\n",
    "$q_z = q^{conv} + q^{light} $\n",
    "\n",
    "$q_z = h(\\left. T\\right|_{z=0} - T_\\infty) + (1-f)I_{in}(r) $\n",
    "\n",
    "**BOTTOM**\n",
    "\n",
    "Dirichlet BC, $T = T_\\infty$\n",
    "\n",
    "**OUTER SIDE**\n",
    "\n",
    "Dirichlet BC, $T = T_\\infty$\n",
    "\n",
    "**INNER SIDE**\n",
    "\n",
    "$\\left. q_r \\right|_{r=0} = 0$"
   ]
  },
  {
   "cell_type": "markdown",
   "id": "9286320d",
   "metadata": {
    "tags": []
   },
   "source": [
    "# Mathematical equations "
   ]
  },
  {
   "cell_type": "markdown",
   "id": "e6d0ef5e",
   "metadata": {},
   "source": [
    "$$\\large q = -k\\nabla T$$ \n",
    "\n",
    "$$\\large \\nabla \\equiv \\frac{\\partial}{\\partial r}\\hat{r} + \\frac{\\partial}{\\partial \\theta}\\hat{\\theta} + \\frac{\\partial}{\\partial z}\\hat{z}$$\n",
    "\n",
    "$$\\large \\frac{\\partial}{\\partial \\theta}\\hat{\\theta} = 0 $$\n",
    "\n",
    "$$ \\large q = \\large -k\\left[\\frac{\\partial T}{\\partial r}\\hat{r} + \\frac{\\partial T}{\\partial z}\\hat{z}\\right]$$\n",
    "\n",
    "$$\\large q = h(T_S - T_\\infty)$$\n",
    "\n",
    "$$\\large \\Delta T = \\frac{Q}{C_pM}$$\n",
    "\n",
    "$$\\large M = V\\rho$$\n",
    "\n",
    "$$\\large \\alpha = \\frac{k}{\\rho C_p}$$"
   ]
  },
  {
   "cell_type": "markdown",
   "id": "cf1ce3d8",
   "metadata": {},
   "source": [
    "The first equation in the cell just above corresponds to the Fourier's law of heat transfer. The law means that heat flows at temperature gradient, i.e. from hot to cold."
   ]
  },
  {
   "cell_type": "markdown",
   "id": "38642f0e",
   "metadata": {
    "tags": []
   },
   "source": [
    "# Mathematical model"
   ]
  },
  {
   "cell_type": "markdown",
   "id": "47cb47cc",
   "metadata": {},
   "source": [
    "<center> Energy accumulated during timestep = Net total energy inflow during timestep"
   ]
  },
  {
   "cell_type": "markdown",
   "id": "23da6c6c",
   "metadata": {},
   "source": [
    "\\begin{align}\n",
    "\\large Q &= \\large q_{E}A_{E} + q_{W}A_{W} + q_{N}A_{N} + q_{S}A_{S} \\\\    \n",
    "\\large C_p M \\Delta T &= \\large q_{E}A_{E} + q_{W}A_{W} + q_{N}A_{N} + q_{S}A_{S} \\\\\n",
    "\\large \\rho C_p V_{c}(T^{k+1}_{c} - T^{k}_{c}) &= \\large q_{E}A_{E} + q_{W}A_{W} + q_{N}A_{N} + q_{S}A_{S} \\\\\n",
    "&= \\large k\\left[\\frac{(T^k_E - T^k_C)}{\\Delta r}\\right](\\Delta z\\,2\\pi\\,r_{j+1})\\,\\Delta t + k\\left[\\frac{T^k_W - T^k_C}{\\Delta r}\\right](\\Delta z\\,2\\pi\\,r_j)\\,\\Delta t + k\\left[\\frac{T^k_N - T^k_C}{\\Delta z}\\right] (\\Delta r\\,2\\pi\\,r_{j+\\frac{1}{2}})\\, \\Delta t + k\\left[\\frac{T^k_S - T^k_C}{\\Delta z}\\right] (\\Delta r\\,2\\pi\\,r_{j+\\frac{1}{2}})\\, \\Delta t \\\\\n",
    "&= \\large 2\\pi\\,\\Delta t\\,k \\left[\\left[\\frac{(T^k_E - T^k_C)}{\\Delta r}\\right](\\Delta z\\,r_{j+1}) + \\left[\\frac{T^k_W - T^k_C}{\\Delta r}\\right](\\Delta z\\,r_j) + \\left[\\frac{T^k_N - T^k_C}{\\Delta z}\\right] (\\Delta r\\,r_{j+\\frac{1}{2}}) + \\left[\\frac{T^k_S - T^k_C}{\\Delta z}\\right](\\Delta r\\,r_{j+\\frac{1}{2}}) \\right] \\\\\n",
    "\\large \\rho C_p (2\\pi\\,\\Delta z\\,\\Delta r\\, r_{j+\\frac{1}{2}})(T^{k+1}_{c} - T^{k}_{c}) &= \\large 2\\pi\\,\\Delta t\\,k \\left[\\left[\\frac{(T^k_E - T^k_C)}{\\Delta r}\\right](\\Delta z\\,r_{j+1}) + \\left[\\frac{T^k_W - T^k_C}{\\Delta r}\\right](\\Delta z\\,r_j) + \\left[\\frac{T^k_N - T^k_C}{\\Delta z}\\right] (\\Delta r\\,r_{j+\\frac{1}{2}}) + \\left[\\frac{T^k_S - T^k_C}{\\Delta z}\\right](\\Delta r\\,r_{j+\\frac{1}{2}}) \\right] \\\\\n",
    "\\large (\\Delta z\\,\\Delta r\\, r_{j+\\frac{1}{2}})(T^{k+1}_{c} - T^{k}_{c}) &= \\large \\frac{\\Delta t\\,k}{\\rho C_p} \\left[\\left[\\frac{(T^k_E - T^k_C)}{\\Delta r}\\right](\\Delta z\\,r_{j+1}) + \\left[\\frac{T^k_W - T^k_C}{\\Delta r}\\right](\\Delta z\\,r_j) + \\left[\\frac{T^k_N - T^k_C}{\\Delta z}\\right] (\\Delta r\\,r_{j+\\frac{1}{2}}) + \\left[\\frac{T^k_S - T^k_C}{\\Delta z}\\right](\\Delta r\\,r_{j+\\frac{1}{2}}) \\right] \\\\\n",
    "\\large (T^{k+1}_{c} - T^{k}_{c}) &= \\large \\frac{\\Delta t\\,k}{\\rho C_p} \\left[\\left[\\frac{(T^k_E - T^k_C)}{\\Delta r^2}\\right]\\Biggl(\\frac{r_{j+1}}{r_{j+\\frac{1}{2}}}\\Biggl) + \\left[\\frac{T^k_W - T^k_C}{\\Delta r^2}\\right]\\Biggl(\\frac{r_j}{r_{j+\\frac{1}{2}}}\\Biggl) + \\left[\\frac{T^k_N - T^k_C}{\\Delta z^2}\\right] + \\left[\\frac{T^k_S - T^k_C}{\\Delta z^2}\\right]\\right] \\\\\n",
    "\\large T^{k+1}_{c} &= \\large T^{k}_{c} + \\Delta t\\,\\alpha \\left[\\left[\\frac{(T^k_E - T^k_C)}{\\Delta r^2}\\right]\\Biggl(\\frac{r_{j+1}}{r_{j+\\frac{1}{2}}}\\Biggl) + \\left[\\frac{T^k_W - T^k_C}{\\Delta r^2}\\right]\\Biggl(\\frac{r_j}{r_{j+\\frac{1}{2}}}\\Biggl) + \\left[\\frac{T^k_N - T^k_C}{\\Delta z^2}\\right] + \\left[\\frac{T^k_S - T^k_C}{\\Delta z^2}\\right]\\right] \n",
    "\\end{align}\n",
    "\n"
   ]
  },
  {
   "cell_type": "markdown",
   "id": "8807ea3b",
   "metadata": {},
   "source": [
    "We will write the time-stepping algorithm as $$\\mathbf{T}^{k+1} = \\mathbf{T}^{k} + \\mathbf{M} \\mathbf{T}^{k} + \\mathbf{C},$$ where $\\mathbf{T}$ is an $N$-dimensional vector of temperature degrees of freedom, superscript indicates timestep number, and $\\mathbf{M}$ is an $N\\times N$ matrix."
   ]
  },
  {
   "cell_type": "markdown",
   "id": "4117994b",
   "metadata": {
    "tags": []
   },
   "source": [
    "# Python code"
   ]
  },
  {
   "cell_type": "markdown",
   "id": "425f6367",
   "metadata": {},
   "source": [
    "The mathematical model described above has been written inside a python script called *Thermal_model.py*. This python file can be found in the Github repository in the *src* folder."
   ]
  },
  {
   "cell_type": "markdown",
   "id": "0782170d-fbb5-40db-93ba-223bc9ecd1ed",
   "metadata": {},
   "source": [
    "# GIU"
   ]
  },
  {
   "cell_type": "code",
   "execution_count": 2,
   "id": "61ce66a5-b009-4bc7-b9d9-1ac2a53008f4",
   "metadata": {},
   "outputs": [
    {
     "data": {
      "application/vnd.jupyter.widget-view+json": {
       "model_id": "f82df209bc4a46d2bc411459b49edfd5",
       "version_major": 2,
       "version_minor": 0
      },
      "text/plain": [
       "VBox(children=(Accordion(children=(VBox(children=(FloatSlider(value=0.0005, description='Radius (m)', layout=L…"
      ]
     },
     "metadata": {},
     "output_type": "display_data"
    }
   ],
   "source": [
    "model = Thermal_simulation_class.simulate()"
   ]
  },
  {
   "cell_type": "code",
   "execution_count": null,
   "id": "10735e6e",
   "metadata": {},
   "outputs": [],
   "source": []
  }
 ],
 "metadata": {
  "hide_input": false,
  "kernelspec": {
   "display_name": "Python 3 (ipykernel)",
   "language": "python",
   "name": "python3"
  },
  "language_info": {
   "codemirror_mode": {
    "name": "ipython",
    "version": 3
   },
   "file_extension": ".py",
   "mimetype": "text/x-python",
   "name": "python",
   "nbconvert_exporter": "python",
   "pygments_lexer": "ipython3",
   "version": "3.9.12"
  },
  "latex_envs": {
   "LaTeX_envs_menu_present": true,
   "autoclose": false,
   "autocomplete": true,
   "bibliofile": "biblio.bib",
   "cite_by": "apalike",
   "current_citInitial": 1,
   "eqLabelWithNumbers": true,
   "eqNumInitial": 1,
   "hotkeys": {
    "equation": "Ctrl-E",
    "itemize": "Ctrl-I"
   },
   "labels_anchors": false,
   "latex_user_defs": false,
   "report_style_numbering": false,
   "user_envs_cfg": false
  },
  "toc": {
   "base_numbering": 1,
   "nav_menu": {},
   "number_sections": true,
   "sideBar": true,
   "skip_h1_title": false,
   "title_cell": "Table of Contents",
   "title_sidebar": "Contents",
   "toc_cell": false,
   "toc_position": {
    "height": "calc(100% - 180px)",
    "left": "10px",
    "top": "150px",
    "width": "383.567px"
   },
   "toc_section_display": true,
   "toc_window_display": true
  },
  "toc-showtags": false
 },
 "nbformat": 4,
 "nbformat_minor": 5
}
